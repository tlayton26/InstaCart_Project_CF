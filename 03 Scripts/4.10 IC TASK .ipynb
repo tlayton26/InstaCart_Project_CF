{
 "cells": [
  {
   "cell_type": "markdown",
   "id": "e4a4cef8",
   "metadata": {},
   "source": [
    "## Contents\n",
    "1. security checks\n",
    "2. Regional flag\n",
    "3. Activity flag\n",
    "4. Customer profiling\n",
    "    - Age, income, pets, diets, dependants\n",
    "    - Aggregation\n",
    "    - Compare across regions\n",
    "    - Compare across departments\n",
    "5. Additional stats/analysis"
   ]
  },
  {
   "cell_type": "markdown",
   "id": "c0af2e74",
   "metadata": {},
   "source": [
    "# Importing Libraries"
   ]
  },
  {
   "cell_type": "code",
   "execution_count": 1,
   "id": "81a6395b",
   "metadata": {},
   "outputs": [],
   "source": [
    "#Import libraries\n",
    "import pandas as pd\n",
    "import numpy as np\n",
    "import os\n",
    "import matplotlib.pyplot as plt\n",
    "import seaborn as sns\n",
    "import scipy"
   ]
  },
  {
   "cell_type": "markdown",
   "id": "fcc04c23",
   "metadata": {},
   "source": [
    "# Importing Data "
   ]
  },
  {
   "cell_type": "code",
   "execution_count": 2,
   "id": "5e4a939a",
   "metadata": {},
   "outputs": [],
   "source": [
    "path = r'C:\\Users\\tlayt\\OneDrive\\Documents\\CF Data Analytics\\Acheivement 4\\Instacart Basket Analysis'"
   ]
  },
  {
   "cell_type": "code",
   "execution_count": 3,
   "id": "d8aed75b",
   "metadata": {},
   "outputs": [],
   "source": [
    "#import data\n",
    "IC_all = pd.read_pickle(os.path.join(path, '02 Data', 'Prepared Data', 'IC_merged_all.pkl'))\n"
   ]
  },
  {
   "cell_type": "markdown",
   "id": "2b9f73a9",
   "metadata": {},
   "source": [
    "# Further Analysis "
   ]
  },
  {
   "cell_type": "markdown",
   "id": "02cf903a",
   "metadata": {},
   "source": [
    "## Security Risks"
   ]
  },
  {
   "cell_type": "code",
   "execution_count": null,
   "id": "be7be584",
   "metadata": {},
   "outputs": [],
   "source": [
    "#creating crosstab to check days_since_prior_order hypothesis\n",
    "crosstab = pd.crosstab(IC_all['days_since_prior_order'], IC_all['order_number'], dropna = False)"
   ]
  },
  {
   "cell_type": "code",
   "execution_count": null,
   "id": "612fa9a0",
   "metadata": {},
   "outputs": [],
   "source": [
    "crosstab"
   ]
  },
  {
   "cell_type": "code",
   "execution_count": null,
   "id": "1757575d",
   "metadata": {},
   "outputs": [],
   "source": [
    "crosstab.to_clipboard()"
   ]
  },
  {
   "cell_type": "code",
   "execution_count": null,
   "id": "98b0db24",
   "metadata": {},
   "outputs": [],
   "source": [
    "IC_all.columns"
   ]
  },
  {
   "cell_type": "code",
   "execution_count": 5,
   "id": "43975026",
   "metadata": {},
   "outputs": [],
   "source": [
    "#dropping first and last names due to PII concerns \n",
    "IC_all_sec = IC_all.drop(columns = ['First Name','Last Name'])"
   ]
  },
  {
   "cell_type": "code",
   "execution_count": 15,
   "id": "9e431170",
   "metadata": {},
   "outputs": [],
   "source": [
    "#dropping _merge\n",
    "IC_all_sec = IC_all.drop(columns = ['_merge'])"
   ]
  },
  {
   "cell_type": "code",
   "execution_count": 16,
   "id": "0a379f35",
   "metadata": {},
   "outputs": [
    {
     "data": {
      "text/plain": [
       "Index(['order_id', 'customer_id', 'order_number', 'orders_day_of_week',\n",
       "       'order_hour_of_day', 'days_since_prior_order', 'product_id',\n",
       "       'add_to_cart_order', 'reordered', 'product_name', 'aisle_id',\n",
       "       'department_id', 'prices', 'price_labels', 'busiest_day',\n",
       "       'busiest_days', 'busiest_period_of_day', 'max_order', 'loyalty_flag',\n",
       "       'avg_spending', 'spending_flag', 'med_DSPO', 'frequency_flag',\n",
       "       'First Name', 'Last Name', 'Gender', 'State', 'Age', 'date_joined',\n",
       "       'n_dependants', 'fam_status', 'income'],\n",
       "      dtype='object')"
      ]
     },
     "execution_count": 16,
     "metadata": {},
     "output_type": "execute_result"
    }
   ],
   "source": [
    "#checking \n",
    "IC_all_sec.columns"
   ]
  },
  {
   "cell_type": "markdown",
   "id": "69fe632f",
   "metadata": {},
   "source": [
    "## Region Flag"
   ]
  },
  {
   "cell_type": "code",
   "execution_count": 7,
   "id": "00b58ef6",
   "metadata": {},
   "outputs": [],
   "source": [
    "#create region flag\n",
    "region = []\n",
    "for value in IC_all_sec[\"State\"]:\n",
    "  if value in ['Maine','New Hampshire', 'Vermont', 'Massachusetts','Rhode Island','Connecticut','New York','Pennsylvania','New Jersey']:\n",
    "        region.append('Northeast')\n",
    "  elif value in ['Wisconsin','Michigan','Illinois','Indiana','Ohio','North Dakota','South Dakota','Nebraska','Kansas','Minnesota','Iowa','Missouri']:\n",
    "        region.append('Midwest')\n",
    "  elif value in ['Delaware','Maryland','District of Columbia','Virginia','West Virginia','North Carolina','South Carolina','Georgia','Florida','Kentucky','Tennessee','Mississippi','Alabama','Oklahoma','Texas','Arkansas','Louisiana']:\n",
    "        region.append('South')\n",
    "  else:\n",
    "        region.append('West')\n"
   ]
  },
  {
   "cell_type": "code",
   "execution_count": null,
   "id": "287fdac7",
   "metadata": {},
   "outputs": [],
   "source": [
    "#checking \n",
    "region"
   ]
  },
  {
   "cell_type": "code",
   "execution_count": 85,
   "id": "9457d443",
   "metadata": {},
   "outputs": [],
   "source": [
    "#creating new column in df\n",
    "IC_all_sec['region'] = region"
   ]
  },
  {
   "cell_type": "code",
   "execution_count": null,
   "id": "09b8a276",
   "metadata": {},
   "outputs": [],
   "source": [
    "#checking \n",
    "IC_all_sec.head()"
   ]
  },
  {
   "cell_type": "code",
   "execution_count": 9,
   "id": "587f353b",
   "metadata": {},
   "outputs": [
    {
     "data": {
      "text/plain": [
       "South        10791885\n",
       "West          8292913\n",
       "Midwest       7597325\n",
       "Northeast     5722736\n",
       "Name: region, dtype: int64"
      ]
     },
     "execution_count": 9,
     "metadata": {},
     "output_type": "execute_result"
    }
   ],
   "source": [
    "#checking count\n",
    "IC_all_sec['region'].value_counts()"
   ]
  },
  {
   "cell_type": "code",
   "execution_count": 197,
   "id": "8063e88e",
   "metadata": {},
   "outputs": [],
   "source": [
    "#comparing spending to region with crosstab\n",
    "region_spending_crosstab = pd.crosstab(IC_all_sec['region'], IC_all_sec['spending_flag'], dropna = False)"
   ]
  },
  {
   "cell_type": "code",
   "execution_count": 198,
   "id": "df395f3e",
   "metadata": {},
   "outputs": [
    {
     "data": {
      "text/html": [
       "<div>\n",
       "<style scoped>\n",
       "    .dataframe tbody tr th:only-of-type {\n",
       "        vertical-align: middle;\n",
       "    }\n",
       "\n",
       "    .dataframe tbody tr th {\n",
       "        vertical-align: top;\n",
       "    }\n",
       "\n",
       "    .dataframe thead th {\n",
       "        text-align: right;\n",
       "    }\n",
       "</style>\n",
       "<table border=\"1\" class=\"dataframe\">\n",
       "  <thead>\n",
       "    <tr style=\"text-align: right;\">\n",
       "      <th>spending_flag</th>\n",
       "      <th>High spender</th>\n",
       "      <th>Low spender</th>\n",
       "    </tr>\n",
       "    <tr>\n",
       "      <th>region</th>\n",
       "      <th></th>\n",
       "      <th></th>\n",
       "    </tr>\n",
       "  </thead>\n",
       "  <tbody>\n",
       "    <tr>\n",
       "      <th>Midwest</th>\n",
       "      <td>155932</td>\n",
       "      <td>7441350</td>\n",
       "    </tr>\n",
       "    <tr>\n",
       "      <th>Northeast</th>\n",
       "      <td>108180</td>\n",
       "      <td>5614511</td>\n",
       "    </tr>\n",
       "    <tr>\n",
       "      <th>South</th>\n",
       "      <td>209481</td>\n",
       "      <td>10582194</td>\n",
       "    </tr>\n",
       "    <tr>\n",
       "      <th>West</th>\n",
       "      <td>160271</td>\n",
       "      <td>8132559</td>\n",
       "    </tr>\n",
       "  </tbody>\n",
       "</table>\n",
       "</div>"
      ],
      "text/plain": [
       "spending_flag  High spender  Low spender\n",
       "region                                  \n",
       "Midwest              155932      7441350\n",
       "Northeast            108180      5614511\n",
       "South                209481     10582194\n",
       "West                 160271      8132559"
      ]
     },
     "execution_count": 198,
     "metadata": {},
     "output_type": "execute_result"
    }
   ],
   "source": [
    "#checking\n",
    "region_spending_crosstab"
   ]
  },
  {
   "cell_type": "code",
   "execution_count": 199,
   "id": "1d84c513",
   "metadata": {},
   "outputs": [
    {
     "data": {
      "image/png": "[encoded data removed]",
      "text/plain": [
       "<Figure size 640x480 with 1 Axes>"
      ]
     },
     "metadata": {},
     "output_type": "display_data"
    }
   ],
   "source": [
    "#creating bar gragh for region_spending\n",
    "region_spending_bar = region_spending_crosstab.plot.bar( color = ['orange', 'limegreen'])"
   ]
  },
  {
   "cell_type": "code",
   "execution_count": null,
   "id": "fd242d13",
   "metadata": {},
   "outputs": [],
   "source": [
    "#exporting image\n",
    "region_spending_bar.figure.savefig(os.path.join(path, '04 Analysis','Visualizations', 'region_spending_bar.png'))"
   ]
  },
  {
   "cell_type": "markdown",
   "id": "70ccdef0",
   "metadata": {},
   "source": [
    "## Activity Flag"
   ]
  },
  {
   "cell_type": "code",
   "execution_count": 10,
   "id": "3ba395fa",
   "metadata": {},
   "outputs": [],
   "source": [
    "#crating an activity flag \n",
    "IC_all_sec.loc[IC_all_sec['max_order'] < 5, 'Activity_flag'] = 'Low_activity'"
   ]
  },
  {
   "cell_type": "code",
   "execution_count": 11,
   "id": "46f9691f",
   "metadata": {},
   "outputs": [],
   "source": [
    "IC_all_sec.loc[IC_all_sec['max_order'] >= 5, 'Activity_flag'] = 'High_activity'"
   ]
  },
  {
   "cell_type": "code",
   "execution_count": 12,
   "id": "f15d8d63",
   "metadata": {},
   "outputs": [
    {
     "data": {
      "text/plain": [
       "High_activity    30964564\n",
       "Low_activity      1440295\n",
       "Name: Activity_flag, dtype: int64"
      ]
     },
     "execution_count": 12,
     "metadata": {},
     "output_type": "execute_result"
    }
   ],
   "source": [
    "#checking\n",
    "IC_all_sec['Activity_flag'].value_counts()"
   ]
  },
  {
   "cell_type": "code",
   "execution_count": null,
   "id": "542ea167",
   "metadata": {},
   "outputs": [],
   "source": [
    "#*******creating new sub df of only high activity customers \n",
    "IC_high = IC_all_sec[IC_all_sec['Activity_flag'] == 'High_activity']"
   ]
  },
  {
   "cell_type": "code",
   "execution_count": null,
   "id": "1dd959ed",
   "metadata": {},
   "outputs": [],
   "source": [
    "#checking \n",
    "IC_high['Activity_flag'].value_counts()"
   ]
  },
  {
   "cell_type": "code",
   "execution_count": null,
   "id": "c50859e1",
   "metadata": {},
   "outputs": [],
   "source": [
    "#exporting df \n",
    "IC_high.to_csv(os.path.join(path, '02 Data','Prepared Data', 'IC_high_activity'))"
   ]
  },
  {
   "cell_type": "markdown",
   "id": "c88f8066",
   "metadata": {},
   "source": [
    "## Customer Profiling"
   ]
  },
  {
   "cell_type": "markdown",
   "id": "4ef7e484",
   "metadata": {},
   "source": [
    "### Age"
   ]
  },
  {
   "cell_type": "code",
   "execution_count": 19,
   "id": "25e1c721",
   "metadata": {},
   "outputs": [],
   "source": [
    "#creating age profile \n",
    "IC_all_sec.loc[IC_all_sec['Age'] < 40, 'age_profile'] = 'Young'"
   ]
  },
  {
   "cell_type": "code",
   "execution_count": 20,
   "id": "128a5bd4",
   "metadata": {},
   "outputs": [],
   "source": [
    "IC_all_sec.loc[((IC_all_sec['Age'] >= 40) & (IC_all_sec['Age'] < 65)), 'age_profile'] = 'Middle-aged'"
   ]
  },
  {
   "cell_type": "code",
   "execution_count": 21,
   "id": "4449cefd",
   "metadata": {},
   "outputs": [],
   "source": [
    "IC_all_sec.loc[IC_all_sec['Age'] >= 65, 'age_profile'] = 'Senior'"
   ]
  },
  {
   "cell_type": "code",
   "execution_count": 22,
   "id": "f7e779b2",
   "metadata": {},
   "outputs": [
    {
     "data": {
      "text/plain": [
       "Middle-aged    12665583\n",
       "Young          11164192\n",
       "Senior          8575084\n",
       "Name: age_profile, dtype: int64"
      ]
     },
     "execution_count": 22,
     "metadata": {},
     "output_type": "execute_result"
    }
   ],
   "source": [
    "#checking \n",
    "IC_all_sec['age_profile'].value_counts()"
   ]
  },
  {
   "cell_type": "code",
   "execution_count": 24,
   "id": "3213f414",
   "metadata": {},
   "outputs": [
    {
     "data": {
      "image/png": "[encoded data removed]",
      "text/plain": [
       "<Figure size 640x480 with 1 Axes>"
      ]
     },
     "metadata": {},
     "output_type": "display_data"
    }
   ],
   "source": [
    "#creating bar chart\n",
    "bar_age_prof = IC_all_sec['age_profile'].value_counts().plot.barh(color = ['limegreen'])"
   ]
  },
  {
   "cell_type": "code",
   "execution_count": 25,
   "id": "20db2ee8",
   "metadata": {},
   "outputs": [],
   "source": [
    "#export image\n",
    "bar_age_prof.figure.savefig(os.path.join(path, '04 Analysis', 'Visualizations', 'bar_age_profile.png'))"
   ]
  },
  {
   "cell_type": "markdown",
   "id": "86ebf0e3",
   "metadata": {},
   "source": [
    "### Income"
   ]
  },
  {
   "cell_type": "code",
   "execution_count": 27,
   "id": "77f31103",
   "metadata": {},
   "outputs": [
    {
     "data": {
      "text/plain": [
       "count    3.240486e+07\n",
       "mean     9.943773e+04\n",
       "std      4.305727e+04\n",
       "min      2.590300e+04\n",
       "25%      6.700400e+04\n",
       "50%      9.661800e+04\n",
       "75%      1.279120e+05\n",
       "max      5.939010e+05\n",
       "Name: income, dtype: float64"
      ]
     },
     "execution_count": 27,
     "metadata": {},
     "output_type": "execute_result"
    }
   ],
   "source": [
    "#income stats\n",
    "IC_all_sec['income'].describe()"
   ]
  },
  {
   "cell_type": "code",
   "execution_count": 28,
   "id": "bc43ece9",
   "metadata": {},
   "outputs": [],
   "source": [
    "#using median, Q1 & Q3 to create income profile\n",
    "IC_all_sec.loc[IC_all_sec['income'] <=65000, 'income_profile'] = 'Low-income'"
   ]
  },
  {
   "cell_type": "code",
   "execution_count": 29,
   "id": "75418779",
   "metadata": {},
   "outputs": [],
   "source": [
    "IC_all_sec.loc[((IC_all_sec['income'] > 65000) & (IC_all_sec['income'] <= 130000)), 'income_profile'] = 'Mid-income'"
   ]
  },
  {
   "cell_type": "code",
   "execution_count": 30,
   "id": "4ecfabb5",
   "metadata": {},
   "outputs": [],
   "source": [
    "IC_all_sec.loc[IC_all_sec['income'] > 130000, 'income_profile'] = 'High-income'"
   ]
  },
  {
   "cell_type": "code",
   "execution_count": 34,
   "id": "a55c91bb",
   "metadata": {},
   "outputs": [
    {
     "data": {
      "image/png": "[encoded data removed]",
      "text/plain": [
       "<Figure size 640x480 with 1 Axes>"
      ]
     },
     "metadata": {},
     "output_type": "display_data"
    }
   ],
   "source": [
    "#creating hist\n",
    "income_hist = IC_all_sec['income'].plot.hist(bins = 30, color ='limegreen')"
   ]
  },
  {
   "cell_type": "code",
   "execution_count": 37,
   "id": "394b0488",
   "metadata": {},
   "outputs": [],
   "source": [
    "#export image\n",
    "income_hist.figure.savefig(os.path.join(path, '04 Analysis', 'Visualizations', 'hist_income.png'))"
   ]
  },
  {
   "cell_type": "code",
   "execution_count": 43,
   "id": "aed6fb67",
   "metadata": {},
   "outputs": [
    {
     "data": {
      "image/png": "[encoded data removed]",
      "text/plain": [
       "<Figure size 640x480 with 1 Axes>"
      ]
     },
     "metadata": {},
     "output_type": "display_data"
    }
   ],
   "source": [
    "#creating bar of income\n",
    "bar_income_prof = IC_all_sec['income_profile'].value_counts().sort_index().plot.bar( color ='limegreen')"
   ]
  },
  {
   "cell_type": "code",
   "execution_count": 44,
   "id": "5fb2ef61",
   "metadata": {},
   "outputs": [],
   "source": [
    "#export image\n",
    "bar_income_prof.figure.savefig(os.path.join(path, '04 Analysis', 'Visualizations', 'bar_income_profile.png'))"
   ]
  },
  {
   "cell_type": "markdown",
   "id": "9cf77331",
   "metadata": {},
   "source": [
    "### Pets"
   ]
  },
  {
   "cell_type": "code",
   "execution_count": 45,
   "id": "5fd190b0",
   "metadata": {},
   "outputs": [],
   "source": [
    "#creating crosstab for customer ID and department ID\n",
    "Cust_dep_tab = pd.crosstab(IC_all_sec['department_id'], IC_all_sec['customer_id'], dropna = False)"
   ]
  },
  {
   "cell_type": "code",
   "execution_count": 47,
   "id": "96bf37bf",
   "metadata": {},
   "outputs": [],
   "source": [
    "# Assigning pet flags to users and storing it in a dictionary pet dep_id = 8\n",
    "# the index starts at 0, so index 0 corresponds to dep_id=1\n",
    "pet_dict = dict()\n",
    "for user in Cust_dep_tab:\n",
    "    workinglist = Cust_dep_tab[user].tolist()\n",
    "    if workinglist[7] == 0 :     \n",
    "        pet_dict[user] = 'No pet'\n",
    "    else:\n",
    "        pet_dict[user] = 'Has pet'"
   ]
  },
  {
   "cell_type": "code",
   "execution_count": 48,
   "id": "a099f1e5",
   "metadata": {},
   "outputs": [],
   "source": [
    "# Assigning user flags to the pet_flag\n",
    "pet_flag = []\n",
    "for user in IC_all_sec['customer_id']:\n",
    "    pet_flag.append(pet_dict[user])"
   ]
  },
  {
   "cell_type": "code",
   "execution_count": 49,
   "id": "45e23ab1",
   "metadata": {},
   "outputs": [],
   "source": [
    "# Adding pet_flag column to as pet_profile\n",
    "IC_all_sec['pet_profile'] = pet_flag"
   ]
  },
  {
   "cell_type": "code",
   "execution_count": 51,
   "id": "f23288f8",
   "metadata": {},
   "outputs": [
    {
     "data": {
      "text/plain": [
       "No pet     28876718\n",
       "Has pet     3528141\n",
       "Name: pet_profile, dtype: int64"
      ]
     },
     "execution_count": 51,
     "metadata": {},
     "output_type": "execute_result"
    }
   ],
   "source": [
    "# Checking  pet_profile\n",
    "IC_all_sec['pet_profile'].value_counts(dropna = False)"
   ]
  },
  {
   "cell_type": "code",
   "execution_count": 52,
   "id": "d554c277",
   "metadata": {},
   "outputs": [
    {
     "data": {
      "image/png": "[encoded data removed]",
      "text/plain": [
       "<Figure size 640x480 with 1 Axes>"
      ]
     },
     "metadata": {},
     "output_type": "display_data"
    }
   ],
   "source": [
    "#creating bar of pets\n",
    "bar_pet_prof = IC_all_sec['pet_profile'].value_counts().plot.bar( color ='limegreen')"
   ]
  },
  {
   "cell_type": "code",
   "execution_count": 53,
   "id": "ed2de39a",
   "metadata": {},
   "outputs": [],
   "source": [
    "#export image\n",
    "bar_pet_prof.figure.savefig(os.path.join(path, '04 Analysis', 'Visualizations', 'bar_pet_profile.png'))"
   ]
  },
  {
   "cell_type": "markdown",
   "id": "c1e693d6",
   "metadata": {},
   "source": [
    "### Diet"
   ]
  },
  {
   "cell_type": "code",
   "execution_count": 54,
   "id": "05efbb61",
   "metadata": {},
   "outputs": [],
   "source": [
    "# Assigning diet flags to users and storing it in a dictionary\n",
    "diet_dict = dict()\n",
    "for user in Cust_dep_tab:\n",
    "    workinglist = Cust_dep_tab[user].tolist()\n",
    "    if workinglist[11] == 0 and workinglist[15] == 0:\n",
    "        diet_dict[user] = 'Vegan'\n",
    "    elif workinglist[11] == 0:\n",
    "        diet_dict[user] = 'Vegetarian'\n",
    "    else:\n",
    "        diet_dict[user] = 'Meat-consumer'"
   ]
  },
  {
   "cell_type": "code",
   "execution_count": 56,
   "id": "3bc548a7",
   "metadata": {},
   "outputs": [],
   "source": [
    "# assigning user flags to the list\n",
    "diet_list = []\n",
    "for user in IC_all_sec['customer_id']:\n",
    "    diet_list.append(diet_dict[user])"
   ]
  },
  {
   "cell_type": "code",
   "execution_count": 59,
   "id": "b4a3a49f",
   "metadata": {},
   "outputs": [],
   "source": [
    "# Adding diet_flag column to as diet_profile\n",
    "IC_all_sec['diet_profile'] = diet_list"
   ]
  },
  {
   "cell_type": "code",
   "execution_count": 60,
   "id": "2b021bbf",
   "metadata": {},
   "outputs": [
    {
     "data": {
      "text/plain": [
       "Meat-consumer    23762619\n",
       "Vegetarian        8258813\n",
       "Vegan              383427\n",
       "Name: diet_profile, dtype: int64"
      ]
     },
     "execution_count": 60,
     "metadata": {},
     "output_type": "execute_result"
    }
   ],
   "source": [
    "# checking diet profile\n",
    "IC_all_sec['diet_profile'].value_counts(dropna = False)"
   ]
  },
  {
   "cell_type": "code",
   "execution_count": 61,
   "id": "820c36f3",
   "metadata": {},
   "outputs": [
    {
     "data": {
      "image/png": "[encoded data removed]",
      "text/plain": [
       "<Figure size 640x480 with 1 Axes>"
      ]
     },
     "metadata": {},
     "output_type": "display_data"
    }
   ],
   "source": [
    "#creating bar of diet\n",
    "bar_diet_prof = IC_all_sec['diet_profile'].value_counts().plot.barh( color ='limegreen')"
   ]
  },
  {
   "cell_type": "code",
   "execution_count": 62,
   "id": "c96c21e3",
   "metadata": {},
   "outputs": [],
   "source": [
    "#export image\n",
    "bar_diet_prof.figure.savefig(os.path.join(path, '04 Analysis', 'Visualizations', 'bar_diet_profile.png'))"
   ]
  },
  {
   "cell_type": "markdown",
   "id": "fc2b7bf9",
   "metadata": {},
   "source": [
    "### Dependants "
   ]
  },
  {
   "cell_type": "code",
   "execution_count": 65,
   "id": "4733b0d9",
   "metadata": {},
   "outputs": [],
   "source": [
    "# Creating a crosstab between dependants and martial_status\n",
    "family_tab = pd.crosstab(IC_all_sec['fam_status'], IC_all_sec['n_dependants'], dropna = False)"
   ]
  },
  {
   "cell_type": "code",
   "execution_count": 66,
   "id": "bd9d6859",
   "metadata": {},
   "outputs": [
    {
     "data": {
      "text/html": [
       "<div>\n",
       "<style scoped>\n",
       "    .dataframe tbody tr th:only-of-type {\n",
       "        vertical-align: middle;\n",
       "    }\n",
       "\n",
       "    .dataframe tbody tr th {\n",
       "        vertical-align: top;\n",
       "    }\n",
       "\n",
       "    .dataframe thead th {\n",
       "        text-align: right;\n",
       "    }\n",
       "</style>\n",
       "<table border=\"1\" class=\"dataframe\">\n",
       "  <thead>\n",
       "    <tr style=\"text-align: right;\">\n",
       "      <th>n_dependants</th>\n",
       "      <th>0</th>\n",
       "      <th>1</th>\n",
       "      <th>2</th>\n",
       "      <th>3</th>\n",
       "    </tr>\n",
       "    <tr>\n",
       "      <th>fam_status</th>\n",
       "      <th></th>\n",
       "      <th></th>\n",
       "      <th></th>\n",
       "      <th></th>\n",
       "    </tr>\n",
       "  </thead>\n",
       "  <tbody>\n",
       "    <tr>\n",
       "      <th>divorced/widowed</th>\n",
       "      <td>2771812</td>\n",
       "      <td>0</td>\n",
       "      <td>0</td>\n",
       "      <td>0</td>\n",
       "    </tr>\n",
       "    <tr>\n",
       "      <th>living with parents and siblings</th>\n",
       "      <td>0</td>\n",
       "      <td>530200</td>\n",
       "      <td>507963</td>\n",
       "      <td>512440</td>\n",
       "    </tr>\n",
       "    <tr>\n",
       "      <th>married</th>\n",
       "      <td>0</td>\n",
       "      <td>7550904</td>\n",
       "      <td>7583180</td>\n",
       "      <td>7622669</td>\n",
       "    </tr>\n",
       "    <tr>\n",
       "      <th>single</th>\n",
       "      <td>5325691</td>\n",
       "      <td>0</td>\n",
       "      <td>0</td>\n",
       "      <td>0</td>\n",
       "    </tr>\n",
       "  </tbody>\n",
       "</table>\n",
       "</div>"
      ],
      "text/plain": [
       "n_dependants                            0        1        2        3\n",
       "fam_status                                                          \n",
       "divorced/widowed                  2771812        0        0        0\n",
       "living with parents and siblings        0   530200   507963   512440\n",
       "married                                 0  7550904  7583180  7622669\n",
       "single                            5325691        0        0        0"
      ]
     },
     "execution_count": 66,
     "metadata": {},
     "output_type": "execute_result"
    }
   ],
   "source": [
    "family_tab"
   ]
  },
  {
   "cell_type": "markdown",
   "id": "c929a151",
   "metadata": {},
   "source": [
    "We can see that the all singles and divorcer/widowed have no dependants. And all who are married have dependants. "
   ]
  },
  {
   "cell_type": "code",
   "execution_count": 67,
   "id": "50699531",
   "metadata": {},
   "outputs": [],
   "source": [
    "#creating family profile\n",
    "IC_all_sec.loc[(IC_all_sec['n_dependants'] == 0), 'dependants'] = 'No dependants'"
   ]
  },
  {
   "cell_type": "code",
   "execution_count": 68,
   "id": "d0649314",
   "metadata": {},
   "outputs": [],
   "source": [
    "IC_all_sec.loc[(IC_all_sec['n_dependants'] >= 1), 'dependants'] = 'Has dependants'"
   ]
  },
  {
   "cell_type": "code",
   "execution_count": 69,
   "id": "66beefeb",
   "metadata": {},
   "outputs": [
    {
     "data": {
      "text/plain": [
       "Has dependants    24307356\n",
       "No dependants      8097503\n",
       "Name: dependants, dtype: int64"
      ]
     },
     "execution_count": 69,
     "metadata": {},
     "output_type": "execute_result"
    }
   ],
   "source": [
    "#checking \n",
    "IC_all_sec['dependants'].value_counts(dropna = False)"
   ]
  },
  {
   "cell_type": "code",
   "execution_count": 73,
   "id": "5cd65be7",
   "metadata": {},
   "outputs": [
    {
     "data": {
      "image/png": "[encoded data removed]",
      "text/plain": [
       "<Figure size 640x480 with 1 Axes>"
      ]
     },
     "metadata": {},
     "output_type": "display_data"
    }
   ],
   "source": [
    "#creating pie chart \n",
    "dependants_pie = IC_all_sec['dependants'].value_counts().plot.pie(autopct = '%1.1f%%', colors = ['limegreen','orange'])\n"
   ]
  },
  {
   "cell_type": "code",
   "execution_count": 74,
   "id": "9e420d1e",
   "metadata": {},
   "outputs": [],
   "source": [
    "#export image\n",
    "dependants_pie.figure.savefig(os.path.join(path, '04 Analysis', 'Visualizations', 'dependants_pie.png'))"
   ]
  },
  {
   "cell_type": "markdown",
   "id": "ea282fc1",
   "metadata": {},
   "source": [
    "## Aggregation"
   ]
  },
  {
   "cell_type": "code",
   "execution_count": 76,
   "id": "11034ad6",
   "metadata": {},
   "outputs": [
    {
     "data": {
      "text/html": [
       "<div>\n",
       "<style scoped>\n",
       "    .dataframe tbody tr th:only-of-type {\n",
       "        vertical-align: middle;\n",
       "    }\n",
       "\n",
       "    .dataframe tbody tr th {\n",
       "        vertical-align: top;\n",
       "    }\n",
       "\n",
       "    .dataframe thead tr th {\n",
       "        text-align: left;\n",
       "    }\n",
       "\n",
       "    .dataframe thead tr:last-of-type th {\n",
       "        text-align: right;\n",
       "    }\n",
       "</style>\n",
       "<table border=\"1\" class=\"dataframe\">\n",
       "  <thead>\n",
       "    <tr>\n",
       "      <th></th>\n",
       "      <th colspan=\"3\" halign=\"left\">days_since_prior_order</th>\n",
       "      <th colspan=\"3\" halign=\"left\">orders_day_of_week</th>\n",
       "      <th colspan=\"3\" halign=\"left\">order_hour_of_day</th>\n",
       "    </tr>\n",
       "    <tr>\n",
       "      <th></th>\n",
       "      <th>mean</th>\n",
       "      <th>max</th>\n",
       "      <th>min</th>\n",
       "      <th>mean</th>\n",
       "      <th>max</th>\n",
       "      <th>min</th>\n",
       "      <th>mean</th>\n",
       "      <th>max</th>\n",
       "      <th>min</th>\n",
       "    </tr>\n",
       "    <tr>\n",
       "      <th>age_profile</th>\n",
       "      <th></th>\n",
       "      <th></th>\n",
       "      <th></th>\n",
       "      <th></th>\n",
       "      <th></th>\n",
       "      <th></th>\n",
       "      <th></th>\n",
       "      <th></th>\n",
       "      <th></th>\n",
       "    </tr>\n",
       "  </thead>\n",
       "  <tbody>\n",
       "    <tr>\n",
       "      <th>Middle-aged</th>\n",
       "      <td>11.117805</td>\n",
       "      <td>30.0</td>\n",
       "      <td>0.0</td>\n",
       "      <td>2.741919</td>\n",
       "      <td>6</td>\n",
       "      <td>0</td>\n",
       "      <td>13.436320</td>\n",
       "      <td>23</td>\n",
       "      <td>0</td>\n",
       "    </tr>\n",
       "    <tr>\n",
       "      <th>Senior</th>\n",
       "      <td>11.078641</td>\n",
       "      <td>30.0</td>\n",
       "      <td>0.0</td>\n",
       "      <td>2.745084</td>\n",
       "      <td>6</td>\n",
       "      <td>0</td>\n",
       "      <td>13.426524</td>\n",
       "      <td>23</td>\n",
       "      <td>0</td>\n",
       "    </tr>\n",
       "    <tr>\n",
       "      <th>Young</th>\n",
       "      <td>11.108046</td>\n",
       "      <td>30.0</td>\n",
       "      <td>0.0</td>\n",
       "      <td>2.730629</td>\n",
       "      <td>6</td>\n",
       "      <td>0</td>\n",
       "      <td>13.411419</td>\n",
       "      <td>23</td>\n",
       "      <td>0</td>\n",
       "    </tr>\n",
       "  </tbody>\n",
       "</table>\n",
       "</div>"
      ],
      "text/plain": [
       "            days_since_prior_order            orders_day_of_week          \\\n",
       "                              mean   max  min               mean max min   \n",
       "age_profile                                                                \n",
       "Middle-aged              11.117805  30.0  0.0           2.741919   6   0   \n",
       "Senior                   11.078641  30.0  0.0           2.745084   6   0   \n",
       "Young                    11.108046  30.0  0.0           2.730629   6   0   \n",
       "\n",
       "            order_hour_of_day          \n",
       "                         mean max min  \n",
       "age_profile                            \n",
       "Middle-aged         13.436320  23   0  \n",
       "Senior              13.426524  23   0  \n",
       "Young               13.411419  23   0  "
      ]
     },
     "execution_count": 76,
     "metadata": {},
     "output_type": "execute_result"
    }
   ],
   "source": [
    "# age_profile stats\n",
    "IC_all_sec.groupby('age_profile').agg({'days_since_prior_order': ['mean', 'max', 'min'], 'orders_day_of_week': ['mean', 'max', 'min'], 'order_hour_of_day': ['mean', 'max', 'min']})"
   ]
  },
  {
   "cell_type": "code",
   "execution_count": 78,
   "id": "7f3b427c",
   "metadata": {},
   "outputs": [
    {
     "data": {
      "text/html": [
       "<div>\n",
       "<style scoped>\n",
       "    .dataframe tbody tr th:only-of-type {\n",
       "        vertical-align: middle;\n",
       "    }\n",
       "\n",
       "    .dataframe tbody tr th {\n",
       "        vertical-align: top;\n",
       "    }\n",
       "\n",
       "    .dataframe thead tr th {\n",
       "        text-align: left;\n",
       "    }\n",
       "\n",
       "    .dataframe thead tr:last-of-type th {\n",
       "        text-align: right;\n",
       "    }\n",
       "</style>\n",
       "<table border=\"1\" class=\"dataframe\">\n",
       "  <thead>\n",
       "    <tr>\n",
       "      <th></th>\n",
       "      <th colspan=\"3\" halign=\"left\">days_since_prior_order</th>\n",
       "      <th colspan=\"3\" halign=\"left\">orders_day_of_week</th>\n",
       "      <th colspan=\"3\" halign=\"left\">order_hour_of_day</th>\n",
       "    </tr>\n",
       "    <tr>\n",
       "      <th></th>\n",
       "      <th>mean</th>\n",
       "      <th>max</th>\n",
       "      <th>min</th>\n",
       "      <th>mean</th>\n",
       "      <th>max</th>\n",
       "      <th>min</th>\n",
       "      <th>mean</th>\n",
       "      <th>max</th>\n",
       "      <th>min</th>\n",
       "    </tr>\n",
       "    <tr>\n",
       "      <th>income_profile</th>\n",
       "      <th></th>\n",
       "      <th></th>\n",
       "      <th></th>\n",
       "      <th></th>\n",
       "      <th></th>\n",
       "      <th></th>\n",
       "      <th></th>\n",
       "      <th></th>\n",
       "      <th></th>\n",
       "    </tr>\n",
       "  </thead>\n",
       "  <tbody>\n",
       "    <tr>\n",
       "      <th>High-income</th>\n",
       "      <td>11.012961</td>\n",
       "      <td>30.0</td>\n",
       "      <td>0.0</td>\n",
       "      <td>2.740252</td>\n",
       "      <td>6</td>\n",
       "      <td>0</td>\n",
       "      <td>13.462716</td>\n",
       "      <td>23</td>\n",
       "      <td>0</td>\n",
       "    </tr>\n",
       "    <tr>\n",
       "      <th>Low-income</th>\n",
       "      <td>11.340582</td>\n",
       "      <td>30.0</td>\n",
       "      <td>0.0</td>\n",
       "      <td>2.740563</td>\n",
       "      <td>6</td>\n",
       "      <td>0</td>\n",
       "      <td>13.317605</td>\n",
       "      <td>23</td>\n",
       "      <td>0</td>\n",
       "    </tr>\n",
       "    <tr>\n",
       "      <th>Mid-income</th>\n",
       "      <td>11.042033</td>\n",
       "      <td>30.0</td>\n",
       "      <td>0.0</td>\n",
       "      <td>2.737502</td>\n",
       "      <td>6</td>\n",
       "      <td>0</td>\n",
       "      <td>13.455381</td>\n",
       "      <td>23</td>\n",
       "      <td>0</td>\n",
       "    </tr>\n",
       "  </tbody>\n",
       "</table>\n",
       "</div>"
      ],
      "text/plain": [
       "               days_since_prior_order            orders_day_of_week          \\\n",
       "                                 mean   max  min               mean max min   \n",
       "income_profile                                                                \n",
       "High-income                 11.012961  30.0  0.0           2.740252   6   0   \n",
       "Low-income                  11.340582  30.0  0.0           2.740563   6   0   \n",
       "Mid-income                  11.042033  30.0  0.0           2.737502   6   0   \n",
       "\n",
       "               order_hour_of_day          \n",
       "                            mean max min  \n",
       "income_profile                            \n",
       "High-income            13.462716  23   0  \n",
       "Low-income             13.317605  23   0  \n",
       "Mid-income             13.455381  23   0  "
      ]
     },
     "execution_count": 78,
     "metadata": {},
     "output_type": "execute_result"
    }
   ],
   "source": [
    "# income_profile stats\n",
    "IC_all_sec.groupby('income_profile').agg({'days_since_prior_order': ['mean', 'max', 'min'], 'orders_day_of_week': ['mean', 'max', 'min'], 'order_hour_of_day': ['mean', 'max', 'min']})"
   ]
  },
  {
   "cell_type": "code",
   "execution_count": 79,
   "id": "1f651611",
   "metadata": {},
   "outputs": [
    {
     "data": {
      "text/html": [
       "<div>\n",
       "<style scoped>\n",
       "    .dataframe tbody tr th:only-of-type {\n",
       "        vertical-align: middle;\n",
       "    }\n",
       "\n",
       "    .dataframe tbody tr th {\n",
       "        vertical-align: top;\n",
       "    }\n",
       "\n",
       "    .dataframe thead tr th {\n",
       "        text-align: left;\n",
       "    }\n",
       "\n",
       "    .dataframe thead tr:last-of-type th {\n",
       "        text-align: right;\n",
       "    }\n",
       "</style>\n",
       "<table border=\"1\" class=\"dataframe\">\n",
       "  <thead>\n",
       "    <tr>\n",
       "      <th></th>\n",
       "      <th colspan=\"3\" halign=\"left\">days_since_prior_order</th>\n",
       "      <th colspan=\"3\" halign=\"left\">orders_day_of_week</th>\n",
       "      <th colspan=\"3\" halign=\"left\">order_hour_of_day</th>\n",
       "    </tr>\n",
       "    <tr>\n",
       "      <th></th>\n",
       "      <th>mean</th>\n",
       "      <th>max</th>\n",
       "      <th>min</th>\n",
       "      <th>mean</th>\n",
       "      <th>max</th>\n",
       "      <th>min</th>\n",
       "      <th>mean</th>\n",
       "      <th>max</th>\n",
       "      <th>min</th>\n",
       "    </tr>\n",
       "    <tr>\n",
       "      <th>pet_profile</th>\n",
       "      <th></th>\n",
       "      <th></th>\n",
       "      <th></th>\n",
       "      <th></th>\n",
       "      <th></th>\n",
       "      <th></th>\n",
       "      <th></th>\n",
       "      <th></th>\n",
       "      <th></th>\n",
       "    </tr>\n",
       "  </thead>\n",
       "  <tbody>\n",
       "    <tr>\n",
       "      <th>Has pet</th>\n",
       "      <td>10.327303</td>\n",
       "      <td>30.0</td>\n",
       "      <td>0.0</td>\n",
       "      <td>2.828543</td>\n",
       "      <td>6</td>\n",
       "      <td>0</td>\n",
       "      <td>13.505297</td>\n",
       "      <td>23</td>\n",
       "      <td>0</td>\n",
       "    </tr>\n",
       "    <tr>\n",
       "      <th>No pet</th>\n",
       "      <td>11.200417</td>\n",
       "      <td>30.0</td>\n",
       "      <td>0.0</td>\n",
       "      <td>2.727910</td>\n",
       "      <td>6</td>\n",
       "      <td>0</td>\n",
       "      <td>13.415356</td>\n",
       "      <td>23</td>\n",
       "      <td>0</td>\n",
       "    </tr>\n",
       "  </tbody>\n",
       "</table>\n",
       "</div>"
      ],
      "text/plain": [
       "            days_since_prior_order            orders_day_of_week          \\\n",
       "                              mean   max  min               mean max min   \n",
       "pet_profile                                                                \n",
       "Has pet                  10.327303  30.0  0.0           2.828543   6   0   \n",
       "No pet                   11.200417  30.0  0.0           2.727910   6   0   \n",
       "\n",
       "            order_hour_of_day          \n",
       "                         mean max min  \n",
       "pet_profile                            \n",
       "Has pet             13.505297  23   0  \n",
       "No pet              13.415356  23   0  "
      ]
     },
     "execution_count": 79,
     "metadata": {},
     "output_type": "execute_result"
    }
   ],
   "source": [
    "# pets_profile stats\n",
    "IC_all_sec.groupby('pet_profile').agg({'days_since_prior_order': ['mean', 'max', 'min'], 'orders_day_of_week': ['mean', 'max', 'min'], 'order_hour_of_day': ['mean', 'max', 'min']})"
   ]
  },
  {
   "cell_type": "code",
   "execution_count": 80,
   "id": "438cda9f",
   "metadata": {},
   "outputs": [
    {
     "data": {
      "text/html": [
       "<div>\n",
       "<style scoped>\n",
       "    .dataframe tbody tr th:only-of-type {\n",
       "        vertical-align: middle;\n",
       "    }\n",
       "\n",
       "    .dataframe tbody tr th {\n",
       "        vertical-align: top;\n",
       "    }\n",
       "\n",
       "    .dataframe thead tr th {\n",
       "        text-align: left;\n",
       "    }\n",
       "\n",
       "    .dataframe thead tr:last-of-type th {\n",
       "        text-align: right;\n",
       "    }\n",
       "</style>\n",
       "<table border=\"1\" class=\"dataframe\">\n",
       "  <thead>\n",
       "    <tr>\n",
       "      <th></th>\n",
       "      <th colspan=\"3\" halign=\"left\">days_since_prior_order</th>\n",
       "      <th colspan=\"3\" halign=\"left\">orders_day_of_week</th>\n",
       "      <th colspan=\"3\" halign=\"left\">order_hour_of_day</th>\n",
       "    </tr>\n",
       "    <tr>\n",
       "      <th></th>\n",
       "      <th>mean</th>\n",
       "      <th>max</th>\n",
       "      <th>min</th>\n",
       "      <th>mean</th>\n",
       "      <th>max</th>\n",
       "      <th>min</th>\n",
       "      <th>mean</th>\n",
       "      <th>max</th>\n",
       "      <th>min</th>\n",
       "    </tr>\n",
       "    <tr>\n",
       "      <th>diet_profile</th>\n",
       "      <th></th>\n",
       "      <th></th>\n",
       "      <th></th>\n",
       "      <th></th>\n",
       "      <th></th>\n",
       "      <th></th>\n",
       "      <th></th>\n",
       "      <th></th>\n",
       "      <th></th>\n",
       "    </tr>\n",
       "  </thead>\n",
       "  <tbody>\n",
       "    <tr>\n",
       "      <th>Meat-consumer</th>\n",
       "      <td>10.762605</td>\n",
       "      <td>30.0</td>\n",
       "      <td>0.0</td>\n",
       "      <td>2.726927</td>\n",
       "      <td>6</td>\n",
       "      <td>0</td>\n",
       "      <td>13.480948</td>\n",
       "      <td>23</td>\n",
       "      <td>0</td>\n",
       "    </tr>\n",
       "    <tr>\n",
       "      <th>Vegan</th>\n",
       "      <td>14.749275</td>\n",
       "      <td>30.0</td>\n",
       "      <td>0.0</td>\n",
       "      <td>2.841495</td>\n",
       "      <td>6</td>\n",
       "      <td>0</td>\n",
       "      <td>13.006408</td>\n",
       "      <td>23</td>\n",
       "      <td>0</td>\n",
       "    </tr>\n",
       "    <tr>\n",
       "      <th>Vegetarian</th>\n",
       "      <td>11.952600</td>\n",
       "      <td>30.0</td>\n",
       "      <td>0.0</td>\n",
       "      <td>2.768456</td>\n",
       "      <td>6</td>\n",
       "      <td>0</td>\n",
       "      <td>13.284042</td>\n",
       "      <td>23</td>\n",
       "      <td>0</td>\n",
       "    </tr>\n",
       "  </tbody>\n",
       "</table>\n",
       "</div>"
      ],
      "text/plain": [
       "              days_since_prior_order            orders_day_of_week          \\\n",
       "                                mean   max  min               mean max min   \n",
       "diet_profile                                                                 \n",
       "Meat-consumer              10.762605  30.0  0.0           2.726927   6   0   \n",
       "Vegan                      14.749275  30.0  0.0           2.841495   6   0   \n",
       "Vegetarian                 11.952600  30.0  0.0           2.768456   6   0   \n",
       "\n",
       "              order_hour_of_day          \n",
       "                           mean max min  \n",
       "diet_profile                             \n",
       "Meat-consumer         13.480948  23   0  \n",
       "Vegan                 13.006408  23   0  \n",
       "Vegetarian            13.284042  23   0  "
      ]
     },
     "execution_count": 80,
     "metadata": {},
     "output_type": "execute_result"
    }
   ],
   "source": [
    "# diet_profile stats\n",
    "IC_all_sec.groupby('diet_profile').agg({'days_since_prior_order': ['mean', 'max', 'min'], 'orders_day_of_week': ['mean', 'max', 'min'], 'order_hour_of_day': ['mean', 'max', 'min']})"
   ]
  },
  {
   "cell_type": "code",
   "execution_count": 81,
   "id": "e4410a62",
   "metadata": {},
   "outputs": [
    {
     "data": {
      "text/html": [
       "<div>\n",
       "<style scoped>\n",
       "    .dataframe tbody tr th:only-of-type {\n",
       "        vertical-align: middle;\n",
       "    }\n",
       "\n",
       "    .dataframe tbody tr th {\n",
       "        vertical-align: top;\n",
       "    }\n",
       "\n",
       "    .dataframe thead tr th {\n",
       "        text-align: left;\n",
       "    }\n",
       "\n",
       "    .dataframe thead tr:last-of-type th {\n",
       "        text-align: right;\n",
       "    }\n",
       "</style>\n",
       "<table border=\"1\" class=\"dataframe\">\n",
       "  <thead>\n",
       "    <tr>\n",
       "      <th></th>\n",
       "      <th colspan=\"3\" halign=\"left\">days_since_prior_order</th>\n",
       "      <th colspan=\"3\" halign=\"left\">orders_day_of_week</th>\n",
       "      <th colspan=\"3\" halign=\"left\">order_hour_of_day</th>\n",
       "    </tr>\n",
       "    <tr>\n",
       "      <th></th>\n",
       "      <th>mean</th>\n",
       "      <th>max</th>\n",
       "      <th>min</th>\n",
       "      <th>mean</th>\n",
       "      <th>max</th>\n",
       "      <th>min</th>\n",
       "      <th>mean</th>\n",
       "      <th>max</th>\n",
       "      <th>min</th>\n",
       "    </tr>\n",
       "    <tr>\n",
       "      <th>dependants</th>\n",
       "      <th></th>\n",
       "      <th></th>\n",
       "      <th></th>\n",
       "      <th></th>\n",
       "      <th></th>\n",
       "      <th></th>\n",
       "      <th></th>\n",
       "      <th></th>\n",
       "      <th></th>\n",
       "    </tr>\n",
       "  </thead>\n",
       "  <tbody>\n",
       "    <tr>\n",
       "      <th>Has dependants</th>\n",
       "      <td>11.111834</td>\n",
       "      <td>30.0</td>\n",
       "      <td>0.0</td>\n",
       "      <td>2.740545</td>\n",
       "      <td>6</td>\n",
       "      <td>0</td>\n",
       "      <td>13.422517</td>\n",
       "      <td>23</td>\n",
       "      <td>0</td>\n",
       "    </tr>\n",
       "    <tr>\n",
       "      <th>No dependants</th>\n",
       "      <td>11.080805</td>\n",
       "      <td>30.0</td>\n",
       "      <td>0.0</td>\n",
       "      <td>2.733830</td>\n",
       "      <td>6</td>\n",
       "      <td>0</td>\n",
       "      <td>13.433048</td>\n",
       "      <td>23</td>\n",
       "      <td>0</td>\n",
       "    </tr>\n",
       "  </tbody>\n",
       "</table>\n",
       "</div>"
      ],
      "text/plain": [
       "               days_since_prior_order            orders_day_of_week          \\\n",
       "                                 mean   max  min               mean max min   \n",
       "dependants                                                                    \n",
       "Has dependants              11.111834  30.0  0.0           2.740545   6   0   \n",
       "No dependants               11.080805  30.0  0.0           2.733830   6   0   \n",
       "\n",
       "               order_hour_of_day          \n",
       "                            mean max min  \n",
       "dependants                                \n",
       "Has dependants         13.422517  23   0  \n",
       "No dependants          13.433048  23   0  "
      ]
     },
     "execution_count": 81,
     "metadata": {},
     "output_type": "execute_result"
    }
   ],
   "source": [
    "# dependants_profile stats\n",
    "IC_all_sec.groupby('dependants').agg({'days_since_prior_order': ['mean', 'max', 'min'], 'orders_day_of_week': ['mean', 'max', 'min'], 'order_hour_of_day': ['mean', 'max', 'min']})"
   ]
  },
  {
   "cell_type": "markdown",
   "id": "d2759110",
   "metadata": {},
   "source": [
    "## Comparing profiles with regions"
   ]
  },
  {
   "cell_type": "code",
   "execution_count": 104,
   "id": "37e43e40",
   "metadata": {},
   "outputs": [],
   "source": [
    "# Creating a crosstab comparing 'age_profile' and 'region'\n",
    "age_region_cross = pd.crosstab(IC_all_sec['region'], IC_all_sec['age_profile'])"
   ]
  },
  {
   "cell_type": "code",
   "execution_count": 105,
   "id": "23c9593a",
   "metadata": {},
   "outputs": [
    {
     "data": {
      "text/html": [
       "<div>\n",
       "<style scoped>\n",
       "    .dataframe tbody tr th:only-of-type {\n",
       "        vertical-align: middle;\n",
       "    }\n",
       "\n",
       "    .dataframe tbody tr th {\n",
       "        vertical-align: top;\n",
       "    }\n",
       "\n",
       "    .dataframe thead th {\n",
       "        text-align: right;\n",
       "    }\n",
       "</style>\n",
       "<table border=\"1\" class=\"dataframe\">\n",
       "  <thead>\n",
       "    <tr style=\"text-align: right;\">\n",
       "      <th>age_profile</th>\n",
       "      <th>Middle-aged</th>\n",
       "      <th>Senior</th>\n",
       "      <th>Young</th>\n",
       "    </tr>\n",
       "    <tr>\n",
       "      <th>region</th>\n",
       "      <th></th>\n",
       "      <th></th>\n",
       "      <th></th>\n",
       "    </tr>\n",
       "  </thead>\n",
       "  <tbody>\n",
       "    <tr>\n",
       "      <th>Midwest</th>\n",
       "      <td>3005352</td>\n",
       "      <td>1990844</td>\n",
       "      <td>2601129</td>\n",
       "    </tr>\n",
       "    <tr>\n",
       "      <th>Northeast</th>\n",
       "      <td>2209479</td>\n",
       "      <td>1553903</td>\n",
       "      <td>1959354</td>\n",
       "    </tr>\n",
       "    <tr>\n",
       "      <th>South</th>\n",
       "      <td>4179885</td>\n",
       "      <td>2836257</td>\n",
       "      <td>3775743</td>\n",
       "    </tr>\n",
       "    <tr>\n",
       "      <th>West</th>\n",
       "      <td>3270867</td>\n",
       "      <td>2194080</td>\n",
       "      <td>2827966</td>\n",
       "    </tr>\n",
       "  </tbody>\n",
       "</table>\n",
       "</div>"
      ],
      "text/plain": [
       "age_profile  Middle-aged   Senior    Young\n",
       "region                                    \n",
       "Midwest          3005352  1990844  2601129\n",
       "Northeast        2209479  1553903  1959354\n",
       "South            4179885  2836257  3775743\n",
       "West             3270867  2194080  2827966"
      ]
     },
     "execution_count": 105,
     "metadata": {},
     "output_type": "execute_result"
    }
   ],
   "source": [
    "age_region_cross"
   ]
  },
  {
   "cell_type": "code",
   "execution_count": 106,
   "id": "a435c2e0",
   "metadata": {},
   "outputs": [
    {
     "data": {
      "image/png": "[encoded data removed]",
      "text/plain": [
       "<Figure size 640x480 with 1 Axes>"
      ]
     },
     "metadata": {},
     "output_type": "display_data"
    }
   ],
   "source": [
    "#creating bar gragh for age_region_cross\n",
    "age_region_crossbar = age_region_cross.plot.bar( color = ['orange', 'limegreen','grey','darkgreen'])"
   ]
  },
  {
   "cell_type": "code",
   "execution_count": 107,
   "id": "439fb01b",
   "metadata": {},
   "outputs": [],
   "source": [
    "#export image\n",
    "age_region_crossbar.figure.savefig(os.path.join(path, '04 Analysis', 'Visualizations', 'age_region_crossbar.png'))"
   ]
  },
  {
   "cell_type": "code",
   "execution_count": 101,
   "id": "1e71fb4c",
   "metadata": {},
   "outputs": [],
   "source": [
    "# Creating a crosstab comparing 'income_profile' and 'region'\n",
    "income_region_cross = pd.crosstab(IC_all_sec['region'], IC_all_sec['income_profile'])"
   ]
  },
  {
   "cell_type": "code",
   "execution_count": 102,
   "id": "a5a281e1",
   "metadata": {},
   "outputs": [
    {
     "data": {
      "text/html": [
       "<div>\n",
       "<style scoped>\n",
       "    .dataframe tbody tr th:only-of-type {\n",
       "        vertical-align: middle;\n",
       "    }\n",
       "\n",
       "    .dataframe tbody tr th {\n",
       "        vertical-align: top;\n",
       "    }\n",
       "\n",
       "    .dataframe thead th {\n",
       "        text-align: right;\n",
       "    }\n",
       "</style>\n",
       "<table border=\"1\" class=\"dataframe\">\n",
       "  <thead>\n",
       "    <tr style=\"text-align: right;\">\n",
       "      <th>income_profile</th>\n",
       "      <th>High-income</th>\n",
       "      <th>Low-income</th>\n",
       "      <th>Mid-income</th>\n",
       "    </tr>\n",
       "    <tr>\n",
       "      <th>region</th>\n",
       "      <th></th>\n",
       "      <th></th>\n",
       "      <th></th>\n",
       "    </tr>\n",
       "  </thead>\n",
       "  <tbody>\n",
       "    <tr>\n",
       "      <th>Midwest</th>\n",
       "      <td>1835777</td>\n",
       "      <td>1737985</td>\n",
       "      <td>4023563</td>\n",
       "    </tr>\n",
       "    <tr>\n",
       "      <th>Northeast</th>\n",
       "      <td>1367168</td>\n",
       "      <td>1317307</td>\n",
       "      <td>3038261</td>\n",
       "    </tr>\n",
       "    <tr>\n",
       "      <th>South</th>\n",
       "      <td>2546153</td>\n",
       "      <td>2532055</td>\n",
       "      <td>5713677</td>\n",
       "    </tr>\n",
       "    <tr>\n",
       "      <th>West</th>\n",
       "      <td>1964430</td>\n",
       "      <td>1933846</td>\n",
       "      <td>4394637</td>\n",
       "    </tr>\n",
       "  </tbody>\n",
       "</table>\n",
       "</div>"
      ],
      "text/plain": [
       "income_profile  High-income  Low-income  Mid-income\n",
       "region                                             \n",
       "Midwest             1835777     1737985     4023563\n",
       "Northeast           1367168     1317307     3038261\n",
       "South               2546153     2532055     5713677\n",
       "West                1964430     1933846     4394637"
      ]
     },
     "execution_count": 102,
     "metadata": {},
     "output_type": "execute_result"
    }
   ],
   "source": [
    "income_region_cross"
   ]
  },
  {
   "cell_type": "code",
   "execution_count": 103,
   "id": "654a9c8e",
   "metadata": {},
   "outputs": [
    {
     "data": {
      "image/png": "[encoded data removed]",
      "text/plain": [
       "<Figure size 640x480 with 1 Axes>"
      ]
     },
     "metadata": {},
     "output_type": "display_data"
    }
   ],
   "source": [
    "#creating bar gragh for income_region_cross\n",
    "income_region_cross = income_region_cross.plot.bar( color = ['orange', 'limegreen','grey','darkgreen'])"
   ]
  },
  {
   "cell_type": "code",
   "execution_count": 108,
   "id": "e86143a2",
   "metadata": {},
   "outputs": [],
   "source": [
    "#export image\n",
    "income_region_cross.figure.savefig(os.path.join(path, '04 Analysis', 'Visualizations', 'income_region_cross.png'))\n"
   ]
  },
  {
   "cell_type": "code",
   "execution_count": 109,
   "id": "6463d408",
   "metadata": {},
   "outputs": [],
   "source": [
    "# Creating a crosstab comparing 'pets_profile' and 'region'\n",
    "pets_region_cross = pd.crosstab(IC_all_sec['region'], IC_all_sec['pet_profile'])"
   ]
  },
  {
   "cell_type": "code",
   "execution_count": 110,
   "id": "144190f4",
   "metadata": {},
   "outputs": [
    {
     "data": {
      "text/html": [
       "<div>\n",
       "<style scoped>\n",
       "    .dataframe tbody tr th:only-of-type {\n",
       "        vertical-align: middle;\n",
       "    }\n",
       "\n",
       "    .dataframe tbody tr th {\n",
       "        vertical-align: top;\n",
       "    }\n",
       "\n",
       "    .dataframe thead th {\n",
       "        text-align: right;\n",
       "    }\n",
       "</style>\n",
       "<table border=\"1\" class=\"dataframe\">\n",
       "  <thead>\n",
       "    <tr style=\"text-align: right;\">\n",
       "      <th>pet_profile</th>\n",
       "      <th>Has pet</th>\n",
       "      <th>No pet</th>\n",
       "    </tr>\n",
       "    <tr>\n",
       "      <th>region</th>\n",
       "      <th></th>\n",
       "      <th></th>\n",
       "    </tr>\n",
       "  </thead>\n",
       "  <tbody>\n",
       "    <tr>\n",
       "      <th>Midwest</th>\n",
       "      <td>844548</td>\n",
       "      <td>6752777</td>\n",
       "    </tr>\n",
       "    <tr>\n",
       "      <th>Northeast</th>\n",
       "      <td>612439</td>\n",
       "      <td>5110297</td>\n",
       "    </tr>\n",
       "    <tr>\n",
       "      <th>South</th>\n",
       "      <td>1141742</td>\n",
       "      <td>9650143</td>\n",
       "    </tr>\n",
       "    <tr>\n",
       "      <th>West</th>\n",
       "      <td>929412</td>\n",
       "      <td>7363501</td>\n",
       "    </tr>\n",
       "  </tbody>\n",
       "</table>\n",
       "</div>"
      ],
      "text/plain": [
       "pet_profile  Has pet   No pet\n",
       "region                       \n",
       "Midwest       844548  6752777\n",
       "Northeast     612439  5110297\n",
       "South        1141742  9650143\n",
       "West          929412  7363501"
      ]
     },
     "execution_count": 110,
     "metadata": {},
     "output_type": "execute_result"
    }
   ],
   "source": [
    "pets_region_cross"
   ]
  },
  {
   "cell_type": "code",
   "execution_count": 111,
   "id": "30065114",
   "metadata": {},
   "outputs": [
    {
     "data": {
      "image/png": "[encoded data removed]",
      "text/plain": [
       "<Figure size 640x480 with 1 Axes>"
      ]
     },
     "metadata": {},
     "output_type": "display_data"
    }
   ],
   "source": [
    "#creating bar gragh for pets_region_cross\n",
    "pets_region_cross = pets_region_cross.plot.bar( color = ['orange', 'limegreen'])"
   ]
  },
  {
   "cell_type": "code",
   "execution_count": 112,
   "id": "9dea358b",
   "metadata": {},
   "outputs": [],
   "source": [
    "#export image\n",
    "pets_region_cross.figure.savefig(os.path.join(path, '04 Analysis', 'Visualizations', 'pets_region_cross.png'))"
   ]
  },
  {
   "cell_type": "code",
   "execution_count": 113,
   "id": "24fdba94",
   "metadata": {},
   "outputs": [],
   "source": [
    "# Creating a crosstab comparing 'diet_profile' and 'region'\n",
    "diet_region_cross = pd.crosstab(IC_all_sec['region'], IC_all_sec['diet_profile'])"
   ]
  },
  {
   "cell_type": "code",
   "execution_count": 114,
   "id": "5aec25f3",
   "metadata": {},
   "outputs": [
    {
     "data": {
      "text/html": [
       "<div>\n",
       "<style scoped>\n",
       "    .dataframe tbody tr th:only-of-type {\n",
       "        vertical-align: middle;\n",
       "    }\n",
       "\n",
       "    .dataframe tbody tr th {\n",
       "        vertical-align: top;\n",
       "    }\n",
       "\n",
       "    .dataframe thead th {\n",
       "        text-align: right;\n",
       "    }\n",
       "</style>\n",
       "<table border=\"1\" class=\"dataframe\">\n",
       "  <thead>\n",
       "    <tr style=\"text-align: right;\">\n",
       "      <th>diet_profile</th>\n",
       "      <th>Meat-consumer</th>\n",
       "      <th>Vegan</th>\n",
       "      <th>Vegetarian</th>\n",
       "    </tr>\n",
       "    <tr>\n",
       "      <th>region</th>\n",
       "      <th></th>\n",
       "      <th></th>\n",
       "      <th></th>\n",
       "    </tr>\n",
       "  </thead>\n",
       "  <tbody>\n",
       "    <tr>\n",
       "      <th>Midwest</th>\n",
       "      <td>5552184</td>\n",
       "      <td>90293</td>\n",
       "      <td>1954848</td>\n",
       "    </tr>\n",
       "    <tr>\n",
       "      <th>Northeast</th>\n",
       "      <td>4201008</td>\n",
       "      <td>67764</td>\n",
       "      <td>1453964</td>\n",
       "    </tr>\n",
       "    <tr>\n",
       "      <th>South</th>\n",
       "      <td>7914729</td>\n",
       "      <td>125305</td>\n",
       "      <td>2751851</td>\n",
       "    </tr>\n",
       "    <tr>\n",
       "      <th>West</th>\n",
       "      <td>6094698</td>\n",
       "      <td>100065</td>\n",
       "      <td>2098150</td>\n",
       "    </tr>\n",
       "  </tbody>\n",
       "</table>\n",
       "</div>"
      ],
      "text/plain": [
       "diet_profile  Meat-consumer   Vegan  Vegetarian\n",
       "region                                         \n",
       "Midwest             5552184   90293     1954848\n",
       "Northeast           4201008   67764     1453964\n",
       "South               7914729  125305     2751851\n",
       "West                6094698  100065     2098150"
      ]
     },
     "execution_count": 114,
     "metadata": {},
     "output_type": "execute_result"
    }
   ],
   "source": [
    "diet_region_cross"
   ]
  },
  {
   "cell_type": "code",
   "execution_count": 115,
   "id": "ae1b3140",
   "metadata": {},
   "outputs": [
    {
     "data": {
      "image/png": "[encoded data removed]",
      "text/plain": [
       "<Figure size 640x480 with 1 Axes>"
      ]
     },
     "metadata": {},
     "output_type": "display_data"
    }
   ],
   "source": [
    "#creating bar gragh for diet_region_cross\n",
    "diet_region_cross = diet_region_cross.plot.bar( color = ['orange', 'limegreen','grey'])"
   ]
  },
  {
   "cell_type": "code",
   "execution_count": 116,
   "id": "de2fc394",
   "metadata": {},
   "outputs": [],
   "source": [
    "#export image\n",
    "diet_region_cross.figure.savefig(os.path.join(path, '04 Analysis', 'Visualizations', 'diet_region_cross.png'))"
   ]
  },
  {
   "cell_type": "code",
   "execution_count": 117,
   "id": "d03172dd",
   "metadata": {},
   "outputs": [],
   "source": [
    "# Creating a crosstab comparing 'dependants' and 'region'\n",
    "dependants_region_cross = pd.crosstab(IC_all_sec['region'], IC_all_sec['dependants'])"
   ]
  },
  {
   "cell_type": "code",
   "execution_count": 118,
   "id": "836168a6",
   "metadata": {},
   "outputs": [
    {
     "data": {
      "text/html": [
       "<div>\n",
       "<style scoped>\n",
       "    .dataframe tbody tr th:only-of-type {\n",
       "        vertical-align: middle;\n",
       "    }\n",
       "\n",
       "    .dataframe tbody tr th {\n",
       "        vertical-align: top;\n",
       "    }\n",
       "\n",
       "    .dataframe thead th {\n",
       "        text-align: right;\n",
       "    }\n",
       "</style>\n",
       "<table border=\"1\" class=\"dataframe\">\n",
       "  <thead>\n",
       "    <tr style=\"text-align: right;\">\n",
       "      <th>dependants</th>\n",
       "      <th>Has dependants</th>\n",
       "      <th>No dependants</th>\n",
       "    </tr>\n",
       "    <tr>\n",
       "      <th>region</th>\n",
       "      <th></th>\n",
       "      <th></th>\n",
       "    </tr>\n",
       "  </thead>\n",
       "  <tbody>\n",
       "    <tr>\n",
       "      <th>Midwest</th>\n",
       "      <td>5692125</td>\n",
       "      <td>1905200</td>\n",
       "    </tr>\n",
       "    <tr>\n",
       "      <th>Northeast</th>\n",
       "      <td>4304435</td>\n",
       "      <td>1418301</td>\n",
       "    </tr>\n",
       "    <tr>\n",
       "      <th>South</th>\n",
       "      <td>8090226</td>\n",
       "      <td>2701659</td>\n",
       "    </tr>\n",
       "    <tr>\n",
       "      <th>West</th>\n",
       "      <td>6220570</td>\n",
       "      <td>2072343</td>\n",
       "    </tr>\n",
       "  </tbody>\n",
       "</table>\n",
       "</div>"
      ],
      "text/plain": [
       "dependants  Has dependants  No dependants\n",
       "region                                   \n",
       "Midwest            5692125        1905200\n",
       "Northeast          4304435        1418301\n",
       "South              8090226        2701659\n",
       "West               6220570        2072343"
      ]
     },
     "execution_count": 118,
     "metadata": {},
     "output_type": "execute_result"
    }
   ],
   "source": [
    "dependants_region_cross"
   ]
  },
  {
   "cell_type": "code",
   "execution_count": 119,
   "id": "af378a7d",
   "metadata": {},
   "outputs": [
    {
     "data": {
      "image/png": "[encoded data removed]",
      "text/plain": [
       "<Figure size 640x480 with 1 Axes>"
      ]
     },
     "metadata": {},
     "output_type": "display_data"
    }
   ],
   "source": [
    "#creating bar gragh for dependants_region_cross\n",
    "dependants_region_cross = dependants_region_cross.plot.bar( color = ['orange', 'limegreen'])"
   ]
  },
  {
   "cell_type": "code",
   "execution_count": 120,
   "id": "e0e0bbd9",
   "metadata": {},
   "outputs": [],
   "source": [
    "#export image\n",
    "dependants_region_cross.figure.savefig(os.path.join(path, '04 Analysis', 'Visualizations', 'dependants_region_cross.png'))"
   ]
  },
  {
   "cell_type": "markdown",
   "id": "234e1075",
   "metadata": {},
   "source": [
    "## Departments"
   ]
  },
  {
   "cell_type": "code",
   "execution_count": 122,
   "id": "2c326258",
   "metadata": {},
   "outputs": [],
   "source": [
    "# Import department.csv\n",
    "df_dep = pd.read_csv(os.path.join(path, '02 Data', 'Prepared Data', 'departments_wrangled.csv'), index_col = False)"
   ]
  },
  {
   "cell_type": "code",
   "execution_count": 123,
   "id": "6e66cd25",
   "metadata": {},
   "outputs": [
    {
     "data": {
      "text/html": [
       "<div>\n",
       "<style scoped>\n",
       "    .dataframe tbody tr th:only-of-type {\n",
       "        vertical-align: middle;\n",
       "    }\n",
       "\n",
       "    .dataframe tbody tr th {\n",
       "        vertical-align: top;\n",
       "    }\n",
       "\n",
       "    .dataframe thead th {\n",
       "        text-align: right;\n",
       "    }\n",
       "</style>\n",
       "<table border=\"1\" class=\"dataframe\">\n",
       "  <thead>\n",
       "    <tr style=\"text-align: right;\">\n",
       "      <th></th>\n",
       "      <th>Unnamed: 0</th>\n",
       "      <th>department</th>\n",
       "    </tr>\n",
       "  </thead>\n",
       "  <tbody>\n",
       "    <tr>\n",
       "      <th>0</th>\n",
       "      <td>1</td>\n",
       "      <td>frozen</td>\n",
       "    </tr>\n",
       "    <tr>\n",
       "      <th>1</th>\n",
       "      <td>2</td>\n",
       "      <td>other</td>\n",
       "    </tr>\n",
       "    <tr>\n",
       "      <th>2</th>\n",
       "      <td>3</td>\n",
       "      <td>bakery</td>\n",
       "    </tr>\n",
       "    <tr>\n",
       "      <th>3</th>\n",
       "      <td>4</td>\n",
       "      <td>produce</td>\n",
       "    </tr>\n",
       "    <tr>\n",
       "      <th>4</th>\n",
       "      <td>5</td>\n",
       "      <td>alcohol</td>\n",
       "    </tr>\n",
       "    <tr>\n",
       "      <th>5</th>\n",
       "      <td>6</td>\n",
       "      <td>international</td>\n",
       "    </tr>\n",
       "    <tr>\n",
       "      <th>6</th>\n",
       "      <td>7</td>\n",
       "      <td>beverages</td>\n",
       "    </tr>\n",
       "    <tr>\n",
       "      <th>7</th>\n",
       "      <td>8</td>\n",
       "      <td>pets</td>\n",
       "    </tr>\n",
       "    <tr>\n",
       "      <th>8</th>\n",
       "      <td>9</td>\n",
       "      <td>dry goods pasta</td>\n",
       "    </tr>\n",
       "    <tr>\n",
       "      <th>9</th>\n",
       "      <td>10</td>\n",
       "      <td>bulk</td>\n",
       "    </tr>\n",
       "    <tr>\n",
       "      <th>10</th>\n",
       "      <td>11</td>\n",
       "      <td>personal care</td>\n",
       "    </tr>\n",
       "    <tr>\n",
       "      <th>11</th>\n",
       "      <td>12</td>\n",
       "      <td>meat seafood</td>\n",
       "    </tr>\n",
       "    <tr>\n",
       "      <th>12</th>\n",
       "      <td>13</td>\n",
       "      <td>pantry</td>\n",
       "    </tr>\n",
       "    <tr>\n",
       "      <th>13</th>\n",
       "      <td>14</td>\n",
       "      <td>breakfast</td>\n",
       "    </tr>\n",
       "    <tr>\n",
       "      <th>14</th>\n",
       "      <td>15</td>\n",
       "      <td>canned goods</td>\n",
       "    </tr>\n",
       "    <tr>\n",
       "      <th>15</th>\n",
       "      <td>16</td>\n",
       "      <td>dairy eggs</td>\n",
       "    </tr>\n",
       "    <tr>\n",
       "      <th>16</th>\n",
       "      <td>17</td>\n",
       "      <td>household</td>\n",
       "    </tr>\n",
       "    <tr>\n",
       "      <th>17</th>\n",
       "      <td>18</td>\n",
       "      <td>babies</td>\n",
       "    </tr>\n",
       "    <tr>\n",
       "      <th>18</th>\n",
       "      <td>19</td>\n",
       "      <td>snacks</td>\n",
       "    </tr>\n",
       "    <tr>\n",
       "      <th>19</th>\n",
       "      <td>20</td>\n",
       "      <td>deli</td>\n",
       "    </tr>\n",
       "    <tr>\n",
       "      <th>20</th>\n",
       "      <td>21</td>\n",
       "      <td>missing</td>\n",
       "    </tr>\n",
       "  </tbody>\n",
       "</table>\n",
       "</div>"
      ],
      "text/plain": [
       "    Unnamed: 0       department\n",
       "0            1           frozen\n",
       "1            2            other\n",
       "2            3           bakery\n",
       "3            4          produce\n",
       "4            5          alcohol\n",
       "5            6    international\n",
       "6            7        beverages\n",
       "7            8             pets\n",
       "8            9  dry goods pasta\n",
       "9           10             bulk\n",
       "10          11    personal care\n",
       "11          12     meat seafood\n",
       "12          13           pantry\n",
       "13          14        breakfast\n",
       "14          15     canned goods\n",
       "15          16       dairy eggs\n",
       "16          17        household\n",
       "17          18           babies\n",
       "18          19           snacks\n",
       "19          20             deli\n",
       "20          21          missing"
      ]
     },
     "execution_count": 123,
     "metadata": {},
     "output_type": "execute_result"
    }
   ],
   "source": [
    "#checking\n",
    "df_dep"
   ]
  },
  {
   "cell_type": "code",
   "execution_count": 124,
   "id": "d2f461c2",
   "metadata": {},
   "outputs": [],
   "source": [
    "# Rename Unamed as department_id\n",
    "df_dep.rename(columns = {'Unnamed: 0' : 'department_id'}, inplace = True)"
   ]
  },
  {
   "cell_type": "code",
   "execution_count": 125,
   "id": "fe794123",
   "metadata": {},
   "outputs": [],
   "source": [
    "#creating dep dictionary\n",
    "dept_dict = dict(zip(df_dep[\"department_id\"], df_dep[\"department\"]))"
   ]
  },
  {
   "cell_type": "code",
   "execution_count": 126,
   "id": "02197afd",
   "metadata": {},
   "outputs": [
    {
     "data": {
      "text/plain": [
       "{1: 'frozen',\n",
       " 2: 'other',\n",
       " 3: 'bakery',\n",
       " 4: 'produce',\n",
       " 5: 'alcohol',\n",
       " 6: 'international',\n",
       " 7: 'beverages',\n",
       " 8: 'pets',\n",
       " 9: 'dry goods pasta',\n",
       " 10: 'bulk',\n",
       " 11: 'personal care',\n",
       " 12: 'meat seafood',\n",
       " 13: 'pantry',\n",
       " 14: 'breakfast',\n",
       " 15: 'canned goods',\n",
       " 16: 'dairy eggs',\n",
       " 17: 'household',\n",
       " 18: 'babies',\n",
       " 19: 'snacks',\n",
       " 20: 'deli',\n",
       " 21: 'missing'}"
      ]
     },
     "execution_count": 126,
     "metadata": {},
     "output_type": "execute_result"
    }
   ],
   "source": [
    "dept_dict"
   ]
  },
  {
   "cell_type": "code",
   "execution_count": 127,
   "id": "bbdc13b6",
   "metadata": {},
   "outputs": [],
   "source": [
    "# Create a column to add the department name to df\n",
    "IC_all_sec['department'] = IC_all_sec['department_id'].map(dept_dict)"
   ]
  },
  {
   "cell_type": "code",
   "execution_count": 128,
   "id": "c9dbfcbf",
   "metadata": {},
   "outputs": [
    {
     "data": {
      "text/plain": [
       "0              beverages\n",
       "1              beverages\n",
       "2              beverages\n",
       "3              beverages\n",
       "4              beverages\n",
       "                ...     \n",
       "32404854       beverages\n",
       "32404855    meat seafood\n",
       "32404856    meat seafood\n",
       "32404857    meat seafood\n",
       "32404858    meat seafood\n",
       "Name: department, Length: 32404859, dtype: object"
      ]
     },
     "execution_count": 128,
     "metadata": {},
     "output_type": "execute_result"
    }
   ],
   "source": [
    "#checking\n",
    "IC_all_sec['department']"
   ]
  },
  {
   "cell_type": "code",
   "execution_count": 131,
   "id": "a48eb535",
   "metadata": {},
   "outputs": [],
   "source": [
    "# Creating a crosstab comparing 'departments' and 'region'\n",
    "departments_region_cross = pd.crosstab(IC_all_sec['department'], IC_all_sec['region'])"
   ]
  },
  {
   "cell_type": "code",
   "execution_count": 132,
   "id": "943fcb8e",
   "metadata": {},
   "outputs": [
    {
     "data": {
      "text/html": [
       "<div>\n",
       "<style scoped>\n",
       "    .dataframe tbody tr th:only-of-type {\n",
       "        vertical-align: middle;\n",
       "    }\n",
       "\n",
       "    .dataframe tbody tr th {\n",
       "        vertical-align: top;\n",
       "    }\n",
       "\n",
       "    .dataframe thead th {\n",
       "        text-align: right;\n",
       "    }\n",
       "</style>\n",
       "<table border=\"1\" class=\"dataframe\">\n",
       "  <thead>\n",
       "    <tr style=\"text-align: right;\">\n",
       "      <th>region</th>\n",
       "      <th>Midwest</th>\n",
       "      <th>Northeast</th>\n",
       "      <th>South</th>\n",
       "      <th>West</th>\n",
       "    </tr>\n",
       "    <tr>\n",
       "      <th>department</th>\n",
       "      <th></th>\n",
       "      <th></th>\n",
       "      <th></th>\n",
       "      <th></th>\n",
       "    </tr>\n",
       "  </thead>\n",
       "  <tbody>\n",
       "    <tr>\n",
       "      <th>alcohol</th>\n",
       "      <td>36186</td>\n",
       "      <td>26542</td>\n",
       "      <td>51624</td>\n",
       "      <td>39344</td>\n",
       "    </tr>\n",
       "    <tr>\n",
       "      <th>babies</th>\n",
       "      <td>98983</td>\n",
       "      <td>75139</td>\n",
       "      <td>143654</td>\n",
       "      <td>106026</td>\n",
       "    </tr>\n",
       "    <tr>\n",
       "      <th>bakery</th>\n",
       "      <td>273869</td>\n",
       "      <td>208599</td>\n",
       "      <td>388815</td>\n",
       "      <td>301145</td>\n",
       "    </tr>\n",
       "    <tr>\n",
       "      <th>beverages</th>\n",
       "      <td>625574</td>\n",
       "      <td>483418</td>\n",
       "      <td>898940</td>\n",
       "      <td>680191</td>\n",
       "    </tr>\n",
       "    <tr>\n",
       "      <th>breakfast</th>\n",
       "      <td>163551</td>\n",
       "      <td>123574</td>\n",
       "      <td>234251</td>\n",
       "      <td>181657</td>\n",
       "    </tr>\n",
       "    <tr>\n",
       "      <th>bulk</th>\n",
       "      <td>8193</td>\n",
       "      <td>5802</td>\n",
       "      <td>11533</td>\n",
       "      <td>9045</td>\n",
       "    </tr>\n",
       "    <tr>\n",
       "      <th>canned goods</th>\n",
       "      <td>250702</td>\n",
       "      <td>186755</td>\n",
       "      <td>356015</td>\n",
       "      <td>274586</td>\n",
       "    </tr>\n",
       "    <tr>\n",
       "      <th>dairy eggs</th>\n",
       "      <td>1264223</td>\n",
       "      <td>954026</td>\n",
       "      <td>1796969</td>\n",
       "      <td>1383529</td>\n",
       "    </tr>\n",
       "    <tr>\n",
       "      <th>deli</th>\n",
       "      <td>245678</td>\n",
       "      <td>186817</td>\n",
       "      <td>349419</td>\n",
       "      <td>269335</td>\n",
       "    </tr>\n",
       "    <tr>\n",
       "      <th>dry goods pasta</th>\n",
       "      <td>203769</td>\n",
       "      <td>151816</td>\n",
       "      <td>287444</td>\n",
       "      <td>223598</td>\n",
       "    </tr>\n",
       "    <tr>\n",
       "      <th>frozen</th>\n",
       "      <td>524096</td>\n",
       "      <td>390918</td>\n",
       "      <td>747900</td>\n",
       "      <td>571829</td>\n",
       "    </tr>\n",
       "    <tr>\n",
       "      <th>household</th>\n",
       "      <td>175824</td>\n",
       "      <td>131485</td>\n",
       "      <td>243070</td>\n",
       "      <td>188287</td>\n",
       "    </tr>\n",
       "    <tr>\n",
       "      <th>international</th>\n",
       "      <td>63736</td>\n",
       "      <td>46891</td>\n",
       "      <td>89142</td>\n",
       "      <td>69484</td>\n",
       "    </tr>\n",
       "    <tr>\n",
       "      <th>meat seafood</th>\n",
       "      <td>166129</td>\n",
       "      <td>124620</td>\n",
       "      <td>235752</td>\n",
       "      <td>182426</td>\n",
       "    </tr>\n",
       "    <tr>\n",
       "      <th>missing</th>\n",
       "      <td>16535</td>\n",
       "      <td>12374</td>\n",
       "      <td>23193</td>\n",
       "      <td>17043</td>\n",
       "    </tr>\n",
       "    <tr>\n",
       "      <th>other</th>\n",
       "      <td>8420</td>\n",
       "      <td>6585</td>\n",
       "      <td>12212</td>\n",
       "      <td>9074</td>\n",
       "    </tr>\n",
       "    <tr>\n",
       "      <th>pantry</th>\n",
       "      <td>442101</td>\n",
       "      <td>329445</td>\n",
       "      <td>622436</td>\n",
       "      <td>481387</td>\n",
       "    </tr>\n",
       "    <tr>\n",
       "      <th>personal care</th>\n",
       "      <td>105749</td>\n",
       "      <td>78815</td>\n",
       "      <td>150350</td>\n",
       "      <td>112658</td>\n",
       "    </tr>\n",
       "    <tr>\n",
       "      <th>pets</th>\n",
       "      <td>22355</td>\n",
       "      <td>18601</td>\n",
       "      <td>31269</td>\n",
       "      <td>25491</td>\n",
       "    </tr>\n",
       "    <tr>\n",
       "      <th>produce</th>\n",
       "      <td>2227937</td>\n",
       "      <td>1665839</td>\n",
       "      <td>3160551</td>\n",
       "      <td>2424964</td>\n",
       "    </tr>\n",
       "    <tr>\n",
       "      <th>snacks</th>\n",
       "      <td>673715</td>\n",
       "      <td>514675</td>\n",
       "      <td>957346</td>\n",
       "      <td>741814</td>\n",
       "    </tr>\n",
       "  </tbody>\n",
       "</table>\n",
       "</div>"
      ],
      "text/plain": [
       "region           Midwest  Northeast    South     West\n",
       "department                                           \n",
       "alcohol            36186      26542    51624    39344\n",
       "babies             98983      75139   143654   106026\n",
       "bakery            273869     208599   388815   301145\n",
       "beverages         625574     483418   898940   680191\n",
       "breakfast         163551     123574   234251   181657\n",
       "bulk                8193       5802    11533     9045\n",
       "canned goods      250702     186755   356015   274586\n",
       "dairy eggs       1264223     954026  1796969  1383529\n",
       "deli              245678     186817   349419   269335\n",
       "dry goods pasta   203769     151816   287444   223598\n",
       "frozen            524096     390918   747900   571829\n",
       "household         175824     131485   243070   188287\n",
       "international      63736      46891    89142    69484\n",
       "meat seafood      166129     124620   235752   182426\n",
       "missing            16535      12374    23193    17043\n",
       "other               8420       6585    12212     9074\n",
       "pantry            442101     329445   622436   481387\n",
       "personal care     105749      78815   150350   112658\n",
       "pets               22355      18601    31269    25491\n",
       "produce          2227937    1665839  3160551  2424964\n",
       "snacks            673715     514675   957346   741814"
      ]
     },
     "execution_count": 132,
     "metadata": {},
     "output_type": "execute_result"
    }
   ],
   "source": [
    "departments_region_cross"
   ]
  },
  {
   "cell_type": "code",
   "execution_count": 133,
   "id": "516a6732",
   "metadata": {},
   "outputs": [
    {
     "data": {
      "image/png": "[encoded data removed]",
      "text/plain": [
       "<Figure size 640x480 with 1 Axes>"
      ]
     },
     "metadata": {},
     "output_type": "display_data"
    }
   ],
   "source": [
    "#creating bar gragh for departments_region_cross\n",
    "departments_region_cross = departments_region_cross.plot.bar( stacked = True, color = ['orange', 'limegreen','grey','darkgreen'])"
   ]
  },
  {
   "cell_type": "code",
   "execution_count": 134,
   "id": "a719d1d5",
   "metadata": {},
   "outputs": [],
   "source": [
    "#exporting image\n",
    "departments_region_cross.figure.savefig(os.path.join(path, '04 Analysis', 'Visualizations', 'departments_region_cross.png'))"
   ]
  },
  {
   "cell_type": "code",
   "execution_count": 139,
   "id": "d90c54be",
   "metadata": {},
   "outputs": [],
   "source": [
    "# Creating a crosstab comparing 'department' and 'age'\n",
    "age_department_cross = pd.crosstab(IC_all_sec['department'], IC_all_sec['age_profile'])"
   ]
  },
  {
   "cell_type": "code",
   "execution_count": 140,
   "id": "3b82dc93",
   "metadata": {},
   "outputs": [
    {
     "data": {
      "text/html": [
       "<div>\n",
       "<style scoped>\n",
       "    .dataframe tbody tr th:only-of-type {\n",
       "        vertical-align: middle;\n",
       "    }\n",
       "\n",
       "    .dataframe tbody tr th {\n",
       "        vertical-align: top;\n",
       "    }\n",
       "\n",
       "    .dataframe thead th {\n",
       "        text-align: right;\n",
       "    }\n",
       "</style>\n",
       "<table border=\"1\" class=\"dataframe\">\n",
       "  <thead>\n",
       "    <tr style=\"text-align: right;\">\n",
       "      <th>age_profile</th>\n",
       "      <th>Middle-aged</th>\n",
       "      <th>Senior</th>\n",
       "      <th>Young</th>\n",
       "    </tr>\n",
       "    <tr>\n",
       "      <th>department</th>\n",
       "      <th></th>\n",
       "      <th></th>\n",
       "      <th></th>\n",
       "    </tr>\n",
       "  </thead>\n",
       "  <tbody>\n",
       "    <tr>\n",
       "      <th>alcohol</th>\n",
       "      <td>59771</td>\n",
       "      <td>39036</td>\n",
       "      <td>54889</td>\n",
       "    </tr>\n",
       "    <tr>\n",
       "      <th>babies</th>\n",
       "      <td>167984</td>\n",
       "      <td>109445</td>\n",
       "      <td>146373</td>\n",
       "    </tr>\n",
       "    <tr>\n",
       "      <th>bakery</th>\n",
       "      <td>458686</td>\n",
       "      <td>309522</td>\n",
       "      <td>404220</td>\n",
       "    </tr>\n",
       "    <tr>\n",
       "      <th>beverages</th>\n",
       "      <td>1059131</td>\n",
       "      <td>714832</td>\n",
       "      <td>914160</td>\n",
       "    </tr>\n",
       "    <tr>\n",
       "      <th>breakfast</th>\n",
       "      <td>275947</td>\n",
       "      <td>183844</td>\n",
       "      <td>243242</td>\n",
       "    </tr>\n",
       "    <tr>\n",
       "      <th>bulk</th>\n",
       "      <td>13329</td>\n",
       "      <td>9242</td>\n",
       "      <td>12002</td>\n",
       "    </tr>\n",
       "    <tr>\n",
       "      <th>canned goods</th>\n",
       "      <td>416382</td>\n",
       "      <td>282438</td>\n",
       "      <td>369238</td>\n",
       "    </tr>\n",
       "    <tr>\n",
       "      <th>dairy eggs</th>\n",
       "      <td>2102456</td>\n",
       "      <td>1426213</td>\n",
       "      <td>1870078</td>\n",
       "    </tr>\n",
       "    <tr>\n",
       "      <th>deli</th>\n",
       "      <td>411631</td>\n",
       "      <td>277618</td>\n",
       "      <td>362000</td>\n",
       "    </tr>\n",
       "    <tr>\n",
       "      <th>dry goods pasta</th>\n",
       "      <td>338614</td>\n",
       "      <td>228935</td>\n",
       "      <td>299078</td>\n",
       "    </tr>\n",
       "    <tr>\n",
       "      <th>frozen</th>\n",
       "      <td>875349</td>\n",
       "      <td>593669</td>\n",
       "      <td>765725</td>\n",
       "    </tr>\n",
       "    <tr>\n",
       "      <th>household</th>\n",
       "      <td>289164</td>\n",
       "      <td>196935</td>\n",
       "      <td>252567</td>\n",
       "    </tr>\n",
       "    <tr>\n",
       "      <th>international</th>\n",
       "      <td>105038</td>\n",
       "      <td>70774</td>\n",
       "      <td>93441</td>\n",
       "    </tr>\n",
       "    <tr>\n",
       "      <th>meat seafood</th>\n",
       "      <td>276311</td>\n",
       "      <td>190114</td>\n",
       "      <td>242502</td>\n",
       "    </tr>\n",
       "    <tr>\n",
       "      <th>missing</th>\n",
       "      <td>26987</td>\n",
       "      <td>18094</td>\n",
       "      <td>24064</td>\n",
       "    </tr>\n",
       "    <tr>\n",
       "      <th>other</th>\n",
       "      <td>14156</td>\n",
       "      <td>9425</td>\n",
       "      <td>12710</td>\n",
       "    </tr>\n",
       "    <tr>\n",
       "      <th>pantry</th>\n",
       "      <td>734150</td>\n",
       "      <td>496979</td>\n",
       "      <td>644240</td>\n",
       "    </tr>\n",
       "    <tr>\n",
       "      <th>personal care</th>\n",
       "      <td>177482</td>\n",
       "      <td>117405</td>\n",
       "      <td>152685</td>\n",
       "    </tr>\n",
       "    <tr>\n",
       "      <th>pets</th>\n",
       "      <td>37938</td>\n",
       "      <td>26286</td>\n",
       "      <td>33492</td>\n",
       "    </tr>\n",
       "    <tr>\n",
       "      <th>produce</th>\n",
       "      <td>3698098</td>\n",
       "      <td>2513763</td>\n",
       "      <td>3267430</td>\n",
       "    </tr>\n",
       "    <tr>\n",
       "      <th>snacks</th>\n",
       "      <td>1126979</td>\n",
       "      <td>760515</td>\n",
       "      <td>1000056</td>\n",
       "    </tr>\n",
       "  </tbody>\n",
       "</table>\n",
       "</div>"
      ],
      "text/plain": [
       "age_profile      Middle-aged   Senior    Young\n",
       "department                                    \n",
       "alcohol                59771    39036    54889\n",
       "babies                167984   109445   146373\n",
       "bakery                458686   309522   404220\n",
       "beverages            1059131   714832   914160\n",
       "breakfast             275947   183844   243242\n",
       "bulk                   13329     9242    12002\n",
       "canned goods          416382   282438   369238\n",
       "dairy eggs           2102456  1426213  1870078\n",
       "deli                  411631   277618   362000\n",
       "dry goods pasta       338614   228935   299078\n",
       "frozen                875349   593669   765725\n",
       "household             289164   196935   252567\n",
       "international         105038    70774    93441\n",
       "meat seafood          276311   190114   242502\n",
       "missing                26987    18094    24064\n",
       "other                  14156     9425    12710\n",
       "pantry                734150   496979   644240\n",
       "personal care         177482   117405   152685\n",
       "pets                   37938    26286    33492\n",
       "produce              3698098  2513763  3267430\n",
       "snacks               1126979   760515  1000056"
      ]
     },
     "execution_count": 140,
     "metadata": {},
     "output_type": "execute_result"
    }
   ],
   "source": [
    "age_department_cross"
   ]
  },
  {
   "cell_type": "code",
   "execution_count": 142,
   "id": "a7617074",
   "metadata": {},
   "outputs": [
    {
     "data": {
      "image/png": "[encoded data removed]",
      "text/plain": [
       "<Figure size 640x480 with 1 Axes>"
      ]
     },
     "metadata": {},
     "output_type": "display_data"
    }
   ],
   "source": [
    "#creating bar gragh for departments_region_cross\n",
    "age_department_cross = age_department_cross.plot.bar( stacked = True, color = ['orange', 'limegreen','grey',])"
   ]
  },
  {
   "cell_type": "code",
   "execution_count": 143,
   "id": "cea65234",
   "metadata": {},
   "outputs": [],
   "source": [
    "#exporting image\n",
    "age_department_cross.figure.savefig(os.path.join(path, '04 Analysis', 'Visualizations', 'age_department_cross.png'))"
   ]
  },
  {
   "cell_type": "code",
   "execution_count": 190,
   "id": "f501640d",
   "metadata": {},
   "outputs": [],
   "source": [
    "# Creating a crosstab comparing 'department' and 'income_profile'\n",
    "department_income_cross = pd.crosstab(IC_all_sec['department'], IC_all_sec['income_profile'])"
   ]
  },
  {
   "cell_type": "code",
   "execution_count": 191,
   "id": "736bdaf0",
   "metadata": {},
   "outputs": [
    {
     "data": {
      "text/html": [
       "<div>\n",
       "<style scoped>\n",
       "    .dataframe tbody tr th:only-of-type {\n",
       "        vertical-align: middle;\n",
       "    }\n",
       "\n",
       "    .dataframe tbody tr th {\n",
       "        vertical-align: top;\n",
       "    }\n",
       "\n",
       "    .dataframe thead th {\n",
       "        text-align: right;\n",
       "    }\n",
       "</style>\n",
       "<table border=\"1\" class=\"dataframe\">\n",
       "  <thead>\n",
       "    <tr style=\"text-align: right;\">\n",
       "      <th>income_profile</th>\n",
       "      <th>High-income</th>\n",
       "      <th>Low-income</th>\n",
       "      <th>Mid-income</th>\n",
       "    </tr>\n",
       "    <tr>\n",
       "      <th>department</th>\n",
       "      <th></th>\n",
       "      <th></th>\n",
       "      <th></th>\n",
       "    </tr>\n",
       "  </thead>\n",
       "  <tbody>\n",
       "    <tr>\n",
       "      <th>alcohol</th>\n",
       "      <td>41241</td>\n",
       "      <td>37371</td>\n",
       "      <td>75084</td>\n",
       "    </tr>\n",
       "    <tr>\n",
       "      <th>babies</th>\n",
       "      <td>105097</td>\n",
       "      <td>77197</td>\n",
       "      <td>241508</td>\n",
       "    </tr>\n",
       "    <tr>\n",
       "      <th>bakery</th>\n",
       "      <td>288754</td>\n",
       "      <td>255822</td>\n",
       "      <td>627852</td>\n",
       "    </tr>\n",
       "    <tr>\n",
       "      <th>beverages</th>\n",
       "      <td>613891</td>\n",
       "      <td>731104</td>\n",
       "      <td>1343128</td>\n",
       "    </tr>\n",
       "    <tr>\n",
       "      <th>breakfast</th>\n",
       "      <td>162424</td>\n",
       "      <td>184191</td>\n",
       "      <td>356418</td>\n",
       "    </tr>\n",
       "    <tr>\n",
       "      <th>bulk</th>\n",
       "      <td>7552</td>\n",
       "      <td>9133</td>\n",
       "      <td>17888</td>\n",
       "    </tr>\n",
       "    <tr>\n",
       "      <th>canned goods</th>\n",
       "      <td>266525</td>\n",
       "      <td>215224</td>\n",
       "      <td>586309</td>\n",
       "    </tr>\n",
       "    <tr>\n",
       "      <th>dairy eggs</th>\n",
       "      <td>1307701</td>\n",
       "      <td>1182757</td>\n",
       "      <td>2908289</td>\n",
       "    </tr>\n",
       "    <tr>\n",
       "      <th>deli</th>\n",
       "      <td>250698</td>\n",
       "      <td>240958</td>\n",
       "      <td>559593</td>\n",
       "    </tr>\n",
       "    <tr>\n",
       "      <th>dry goods pasta</th>\n",
       "      <td>213044</td>\n",
       "      <td>174224</td>\n",
       "      <td>479359</td>\n",
       "    </tr>\n",
       "    <tr>\n",
       "      <th>frozen</th>\n",
       "      <td>541965</td>\n",
       "      <td>499243</td>\n",
       "      <td>1193535</td>\n",
       "    </tr>\n",
       "    <tr>\n",
       "      <th>household</th>\n",
       "      <td>178307</td>\n",
       "      <td>181679</td>\n",
       "      <td>378680</td>\n",
       "    </tr>\n",
       "    <tr>\n",
       "      <th>international</th>\n",
       "      <td>65556</td>\n",
       "      <td>56009</td>\n",
       "      <td>147688</td>\n",
       "    </tr>\n",
       "    <tr>\n",
       "      <th>meat seafood</th>\n",
       "      <td>182871</td>\n",
       "      <td>119756</td>\n",
       "      <td>406300</td>\n",
       "    </tr>\n",
       "    <tr>\n",
       "      <th>missing</th>\n",
       "      <td>16556</td>\n",
       "      <td>15727</td>\n",
       "      <td>36862</td>\n",
       "    </tr>\n",
       "    <tr>\n",
       "      <th>other</th>\n",
       "      <td>8756</td>\n",
       "      <td>8441</td>\n",
       "      <td>19094</td>\n",
       "    </tr>\n",
       "    <tr>\n",
       "      <th>pantry</th>\n",
       "      <td>457915</td>\n",
       "      <td>406275</td>\n",
       "      <td>1011179</td>\n",
       "    </tr>\n",
       "    <tr>\n",
       "      <th>personal care</th>\n",
       "      <td>107073</td>\n",
       "      <td>106259</td>\n",
       "      <td>234240</td>\n",
       "    </tr>\n",
       "    <tr>\n",
       "      <th>pets</th>\n",
       "      <td>25215</td>\n",
       "      <td>20495</td>\n",
       "      <td>52006</td>\n",
       "    </tr>\n",
       "    <tr>\n",
       "      <th>produce</th>\n",
       "      <td>2274108</td>\n",
       "      <td>2040258</td>\n",
       "      <td>5164925</td>\n",
       "    </tr>\n",
       "    <tr>\n",
       "      <th>snacks</th>\n",
       "      <td>598279</td>\n",
       "      <td>959070</td>\n",
       "      <td>1330201</td>\n",
       "    </tr>\n",
       "  </tbody>\n",
       "</table>\n",
       "</div>"
      ],
      "text/plain": [
       "income_profile   High-income  Low-income  Mid-income\n",
       "department                                          \n",
       "alcohol                41241       37371       75084\n",
       "babies                105097       77197      241508\n",
       "bakery                288754      255822      627852\n",
       "beverages             613891      731104     1343128\n",
       "breakfast             162424      184191      356418\n",
       "bulk                    7552        9133       17888\n",
       "canned goods          266525      215224      586309\n",
       "dairy eggs           1307701     1182757     2908289\n",
       "deli                  250698      240958      559593\n",
       "dry goods pasta       213044      174224      479359\n",
       "frozen                541965      499243     1193535\n",
       "household             178307      181679      378680\n",
       "international          65556       56009      147688\n",
       "meat seafood          182871      119756      406300\n",
       "missing                16556       15727       36862\n",
       "other                   8756        8441       19094\n",
       "pantry                457915      406275     1011179\n",
       "personal care         107073      106259      234240\n",
       "pets                   25215       20495       52006\n",
       "produce              2274108     2040258     5164925\n",
       "snacks                598279      959070     1330201"
      ]
     },
     "execution_count": 191,
     "metadata": {},
     "output_type": "execute_result"
    }
   ],
   "source": [
    "department_income_cross"
   ]
  },
  {
   "cell_type": "code",
   "execution_count": 192,
   "id": "1914f0ff",
   "metadata": {},
   "outputs": [
    {
     "data": {
      "image/png": "[encoded data removed]",
      "text/plain": [
       "<Figure size 640x480 with 1 Axes>"
      ]
     },
     "metadata": {},
     "output_type": "display_data"
    }
   ],
   "source": [
    "#creating bar gragh for departments_region_cross\n",
    "department_income_cross = department_income_cross.plot.bar( stacked = True, color = ['orange', 'limegreen','grey',])"
   ]
  },
  {
   "cell_type": "code",
   "execution_count": 147,
   "id": "0dd9823b",
   "metadata": {},
   "outputs": [],
   "source": [
    "#exporting image\n",
    "department_income_cross.figure.savefig(os.path.join(path, '04 Analysis', 'Visualizations', 'department_income_cross.png'))"
   ]
  },
  {
   "cell_type": "code",
   "execution_count": 148,
   "id": "8979d1c0",
   "metadata": {},
   "outputs": [],
   "source": [
    "# Creating a crosstab comparing 'department' and 'dependants'\n",
    "department_dependants_cross = pd.crosstab(IC_all_sec['department'], IC_all_sec['dependants'])"
   ]
  },
  {
   "cell_type": "code",
   "execution_count": 149,
   "id": "cd2628bc",
   "metadata": {},
   "outputs": [
    {
     "data": {
      "text/html": [
       "<div>\n",
       "<style scoped>\n",
       "    .dataframe tbody tr th:only-of-type {\n",
       "        vertical-align: middle;\n",
       "    }\n",
       "\n",
       "    .dataframe tbody tr th {\n",
       "        vertical-align: top;\n",
       "    }\n",
       "\n",
       "    .dataframe thead th {\n",
       "        text-align: right;\n",
       "    }\n",
       "</style>\n",
       "<table border=\"1\" class=\"dataframe\">\n",
       "  <thead>\n",
       "    <tr style=\"text-align: right;\">\n",
       "      <th>dependants</th>\n",
       "      <th>Has dependants</th>\n",
       "      <th>No dependants</th>\n",
       "    </tr>\n",
       "    <tr>\n",
       "      <th>department</th>\n",
       "      <th></th>\n",
       "      <th></th>\n",
       "    </tr>\n",
       "  </thead>\n",
       "  <tbody>\n",
       "    <tr>\n",
       "      <th>alcohol</th>\n",
       "      <td>114578</td>\n",
       "      <td>39118</td>\n",
       "    </tr>\n",
       "    <tr>\n",
       "      <th>babies</th>\n",
       "      <td>317308</td>\n",
       "      <td>106494</td>\n",
       "    </tr>\n",
       "    <tr>\n",
       "      <th>bakery</th>\n",
       "      <td>878023</td>\n",
       "      <td>294405</td>\n",
       "    </tr>\n",
       "    <tr>\n",
       "      <th>beverages</th>\n",
       "      <td>2013681</td>\n",
       "      <td>674442</td>\n",
       "    </tr>\n",
       "    <tr>\n",
       "      <th>breakfast</th>\n",
       "      <td>528456</td>\n",
       "      <td>174577</td>\n",
       "    </tr>\n",
       "    <tr>\n",
       "      <th>bulk</th>\n",
       "      <td>26295</td>\n",
       "      <td>8278</td>\n",
       "    </tr>\n",
       "    <tr>\n",
       "      <th>canned goods</th>\n",
       "      <td>803220</td>\n",
       "      <td>264838</td>\n",
       "    </tr>\n",
       "    <tr>\n",
       "      <th>dairy eggs</th>\n",
       "      <td>4049385</td>\n",
       "      <td>1349362</td>\n",
       "    </tr>\n",
       "    <tr>\n",
       "      <th>deli</th>\n",
       "      <td>786104</td>\n",
       "      <td>265145</td>\n",
       "    </tr>\n",
       "    <tr>\n",
       "      <th>dry goods pasta</th>\n",
       "      <td>651365</td>\n",
       "      <td>215262</td>\n",
       "    </tr>\n",
       "    <tr>\n",
       "      <th>frozen</th>\n",
       "      <td>1677583</td>\n",
       "      <td>557160</td>\n",
       "    </tr>\n",
       "    <tr>\n",
       "      <th>household</th>\n",
       "      <td>557893</td>\n",
       "      <td>180773</td>\n",
       "    </tr>\n",
       "    <tr>\n",
       "      <th>international</th>\n",
       "      <td>201540</td>\n",
       "      <td>67713</td>\n",
       "    </tr>\n",
       "    <tr>\n",
       "      <th>meat seafood</th>\n",
       "      <td>534843</td>\n",
       "      <td>174084</td>\n",
       "    </tr>\n",
       "    <tr>\n",
       "      <th>missing</th>\n",
       "      <td>52057</td>\n",
       "      <td>17088</td>\n",
       "    </tr>\n",
       "    <tr>\n",
       "      <th>other</th>\n",
       "      <td>27116</td>\n",
       "      <td>9175</td>\n",
       "    </tr>\n",
       "    <tr>\n",
       "      <th>pantry</th>\n",
       "      <td>1408612</td>\n",
       "      <td>466757</td>\n",
       "    </tr>\n",
       "    <tr>\n",
       "      <th>personal care</th>\n",
       "      <td>335566</td>\n",
       "      <td>112006</td>\n",
       "    </tr>\n",
       "    <tr>\n",
       "      <th>pets</th>\n",
       "      <td>73133</td>\n",
       "      <td>24583</td>\n",
       "    </tr>\n",
       "    <tr>\n",
       "      <th>produce</th>\n",
       "      <td>7103846</td>\n",
       "      <td>2375445</td>\n",
       "    </tr>\n",
       "    <tr>\n",
       "      <th>snacks</th>\n",
       "      <td>2166752</td>\n",
       "      <td>720798</td>\n",
       "    </tr>\n",
       "  </tbody>\n",
       "</table>\n",
       "</div>"
      ],
      "text/plain": [
       "dependants       Has dependants  No dependants\n",
       "department                                    \n",
       "alcohol                  114578          39118\n",
       "babies                   317308         106494\n",
       "bakery                   878023         294405\n",
       "beverages               2013681         674442\n",
       "breakfast                528456         174577\n",
       "bulk                      26295           8278\n",
       "canned goods             803220         264838\n",
       "dairy eggs              4049385        1349362\n",
       "deli                     786104         265145\n",
       "dry goods pasta          651365         215262\n",
       "frozen                  1677583         557160\n",
       "household                557893         180773\n",
       "international            201540          67713\n",
       "meat seafood             534843         174084\n",
       "missing                   52057          17088\n",
       "other                     27116           9175\n",
       "pantry                  1408612         466757\n",
       "personal care            335566         112006\n",
       "pets                      73133          24583\n",
       "produce                 7103846        2375445\n",
       "snacks                  2166752         720798"
      ]
     },
     "execution_count": 149,
     "metadata": {},
     "output_type": "execute_result"
    }
   ],
   "source": [
    "department_dependants_cross"
   ]
  },
  {
   "cell_type": "code",
   "execution_count": 150,
   "id": "8422d4b9",
   "metadata": {
    "scrolled": true
   },
   "outputs": [
    {
     "data": {
      "image/png": "[encoded data removed]",
      "text/plain": [
       "<Figure size 640x480 with 1 Axes>"
      ]
     },
     "metadata": {},
     "output_type": "display_data"
    }
   ],
   "source": [
    "#creating bar gragh for departments_region_cross\n",
    "department_dependants_cross = department_dependants_cross.plot.bar( stacked = True, color = ['orange', 'limegreen'])"
   ]
  },
  {
   "cell_type": "code",
   "execution_count": 151,
   "id": "3cd9f9f2",
   "metadata": {},
   "outputs": [],
   "source": [
    "#exporting image\n",
    "department_dependants_cross.figure.savefig(os.path.join(path, '04 Analysis', 'Visualizations', 'department_dependants_cross.png'))"
   ]
  },
  {
   "cell_type": "markdown",
   "id": "beafb69d",
   "metadata": {},
   "source": [
    "## Additional Stats"
   ]
  },
  {
   "cell_type": "code",
   "execution_count": 211,
   "id": "09282356",
   "metadata": {},
   "outputs": [],
   "source": [
    "# Creating a crosstab comparing 'department' and 'loyalty_flag'\n",
    "department_loyalty_cross = pd.crosstab(IC_all_sec['department'], IC_all_sec['loyalty_flag'])"
   ]
  },
  {
   "cell_type": "code",
   "execution_count": 212,
   "id": "5501a314",
   "metadata": {},
   "outputs": [
    {
     "data": {
      "text/html": [
       "<div>\n",
       "<style scoped>\n",
       "    .dataframe tbody tr th:only-of-type {\n",
       "        vertical-align: middle;\n",
       "    }\n",
       "\n",
       "    .dataframe tbody tr th {\n",
       "        vertical-align: top;\n",
       "    }\n",
       "\n",
       "    .dataframe thead th {\n",
       "        text-align: right;\n",
       "    }\n",
       "</style>\n",
       "<table border=\"1\" class=\"dataframe\">\n",
       "  <thead>\n",
       "    <tr style=\"text-align: right;\">\n",
       "      <th>loyalty_flag</th>\n",
       "      <th>Loyal customer</th>\n",
       "      <th>New customer</th>\n",
       "      <th>Regular customer</th>\n",
       "    </tr>\n",
       "    <tr>\n",
       "      <th>department</th>\n",
       "      <th></th>\n",
       "      <th></th>\n",
       "      <th></th>\n",
       "    </tr>\n",
       "  </thead>\n",
       "  <tbody>\n",
       "    <tr>\n",
       "      <th>alcohol</th>\n",
       "      <td>38723</td>\n",
       "      <td>37698</td>\n",
       "      <td>77275</td>\n",
       "    </tr>\n",
       "    <tr>\n",
       "      <th>babies</th>\n",
       "      <td>167108</td>\n",
       "      <td>60118</td>\n",
       "      <td>196576</td>\n",
       "    </tr>\n",
       "    <tr>\n",
       "      <th>bakery</th>\n",
       "      <td>379873</td>\n",
       "      <td>223704</td>\n",
       "      <td>568851</td>\n",
       "    </tr>\n",
       "    <tr>\n",
       "      <th>beverages</th>\n",
       "      <td>855017</td>\n",
       "      <td>512871</td>\n",
       "      <td>1320235</td>\n",
       "    </tr>\n",
       "    <tr>\n",
       "      <th>breakfast</th>\n",
       "      <td>221577</td>\n",
       "      <td>138362</td>\n",
       "      <td>343094</td>\n",
       "    </tr>\n",
       "    <tr>\n",
       "      <th>bulk</th>\n",
       "      <td>13834</td>\n",
       "      <td>5271</td>\n",
       "      <td>15468</td>\n",
       "    </tr>\n",
       "    <tr>\n",
       "      <th>canned goods</th>\n",
       "      <td>294594</td>\n",
       "      <td>236180</td>\n",
       "      <td>537284</td>\n",
       "    </tr>\n",
       "    <tr>\n",
       "      <th>dairy eggs</th>\n",
       "      <td>1830707</td>\n",
       "      <td>971621</td>\n",
       "      <td>2596419</td>\n",
       "    </tr>\n",
       "    <tr>\n",
       "      <th>deli</th>\n",
       "      <td>324046</td>\n",
       "      <td>205750</td>\n",
       "      <td>521453</td>\n",
       "    </tr>\n",
       "    <tr>\n",
       "      <th>dry goods pasta</th>\n",
       "      <td>242580</td>\n",
       "      <td>189327</td>\n",
       "      <td>434720</td>\n",
       "    </tr>\n",
       "    <tr>\n",
       "      <th>frozen</th>\n",
       "      <td>609460</td>\n",
       "      <td>485283</td>\n",
       "      <td>1140000</td>\n",
       "    </tr>\n",
       "    <tr>\n",
       "      <th>household</th>\n",
       "      <td>196873</td>\n",
       "      <td>166926</td>\n",
       "      <td>374867</td>\n",
       "    </tr>\n",
       "    <tr>\n",
       "      <th>international</th>\n",
       "      <td>78394</td>\n",
       "      <td>57103</td>\n",
       "      <td>133756</td>\n",
       "    </tr>\n",
       "    <tr>\n",
       "      <th>meat seafood</th>\n",
       "      <td>202480</td>\n",
       "      <td>146610</td>\n",
       "      <td>359837</td>\n",
       "    </tr>\n",
       "    <tr>\n",
       "      <th>missing</th>\n",
       "      <td>18350</td>\n",
       "      <td>17090</td>\n",
       "      <td>33705</td>\n",
       "    </tr>\n",
       "    <tr>\n",
       "      <th>other</th>\n",
       "      <td>10715</td>\n",
       "      <td>7719</td>\n",
       "      <td>17857</td>\n",
       "    </tr>\n",
       "    <tr>\n",
       "      <th>pantry</th>\n",
       "      <td>560402</td>\n",
       "      <td>392240</td>\n",
       "      <td>922727</td>\n",
       "    </tr>\n",
       "    <tr>\n",
       "      <th>personal care</th>\n",
       "      <td>123365</td>\n",
       "      <td>98708</td>\n",
       "      <td>225499</td>\n",
       "    </tr>\n",
       "    <tr>\n",
       "      <th>pets</th>\n",
       "      <td>25469</td>\n",
       "      <td>20536</td>\n",
       "      <td>51711</td>\n",
       "    </tr>\n",
       "    <tr>\n",
       "      <th>produce</th>\n",
       "      <td>3147376</td>\n",
       "      <td>1736622</td>\n",
       "      <td>4595293</td>\n",
       "    </tr>\n",
       "    <tr>\n",
       "      <th>snacks</th>\n",
       "      <td>943150</td>\n",
       "      <td>534251</td>\n",
       "      <td>1410149</td>\n",
       "    </tr>\n",
       "  </tbody>\n",
       "</table>\n",
       "</div>"
      ],
      "text/plain": [
       "loyalty_flag     Loyal customer  New customer  Regular customer\n",
       "department                                                     \n",
       "alcohol                   38723         37698             77275\n",
       "babies                   167108         60118            196576\n",
       "bakery                   379873        223704            568851\n",
       "beverages                855017        512871           1320235\n",
       "breakfast                221577        138362            343094\n",
       "bulk                      13834          5271             15468\n",
       "canned goods             294594        236180            537284\n",
       "dairy eggs              1830707        971621           2596419\n",
       "deli                     324046        205750            521453\n",
       "dry goods pasta          242580        189327            434720\n",
       "frozen                   609460        485283           1140000\n",
       "household                196873        166926            374867\n",
       "international             78394         57103            133756\n",
       "meat seafood             202480        146610            359837\n",
       "missing                   18350         17090             33705\n",
       "other                     10715          7719             17857\n",
       "pantry                   560402        392240            922727\n",
       "personal care            123365         98708            225499\n",
       "pets                      25469         20536             51711\n",
       "produce                 3147376       1736622           4595293\n",
       "snacks                   943150        534251           1410149"
      ]
     },
     "execution_count": 212,
     "metadata": {},
     "output_type": "execute_result"
    }
   ],
   "source": [
    "department_loyalty_cross"
   ]
  },
  {
   "cell_type": "code",
   "execution_count": 213,
   "id": "994acd51",
   "metadata": {
    "scrolled": true
   },
   "outputs": [
    {
     "data": {
      "image/png": "[encoded data removed]",
      "text/plain": [
       "<Figure size 640x480 with 1 Axes>"
      ]
     },
     "metadata": {},
     "output_type": "display_data"
    }
   ],
   "source": [
    "#creating bar gragh for departments_region_cross\n",
    "department_loyalty_cross = department_loyalty_cross.plot.bar(stacked = True, color = ['orange', 'limegreen','grey',])\n"
   ]
  },
  {
   "cell_type": "code",
   "execution_count": 155,
   "id": "54f784c8",
   "metadata": {},
   "outputs": [],
   "source": [
    "#exporting image\n",
    "department_loyalty_cross.figure.savefig(os.path.join(path, '04 Analysis', 'Visualizations', 'department_loyalty_cross.png'))"
   ]
  },
  {
   "cell_type": "code",
   "execution_count": 163,
   "id": "d02ddbf1",
   "metadata": {},
   "outputs": [],
   "source": [
    "# Creating a crosstab comparing 'loyalty' and 'region'\n",
    "loyalty_region_cross = pd.crosstab(IC_all_sec['region'], IC_all_sec['loyalty_flag'])"
   ]
  },
  {
   "cell_type": "code",
   "execution_count": 164,
   "id": "bc57281a",
   "metadata": {},
   "outputs": [
    {
     "data": {
      "text/html": [
       "<div>\n",
       "<style scoped>\n",
       "    .dataframe tbody tr th:only-of-type {\n",
       "        vertical-align: middle;\n",
       "    }\n",
       "\n",
       "    .dataframe tbody tr th {\n",
       "        vertical-align: top;\n",
       "    }\n",
       "\n",
       "    .dataframe thead th {\n",
       "        text-align: right;\n",
       "    }\n",
       "</style>\n",
       "<table border=\"1\" class=\"dataframe\">\n",
       "  <thead>\n",
       "    <tr style=\"text-align: right;\">\n",
       "      <th>loyalty_flag</th>\n",
       "      <th>Loyal customer</th>\n",
       "      <th>New customer</th>\n",
       "      <th>Regular customer</th>\n",
       "    </tr>\n",
       "    <tr>\n",
       "      <th>region</th>\n",
       "      <th></th>\n",
       "      <th></th>\n",
       "      <th></th>\n",
       "    </tr>\n",
       "  </thead>\n",
       "  <tbody>\n",
       "    <tr>\n",
       "      <th>Midwest</th>\n",
       "      <td>2373774</td>\n",
       "      <td>1472573</td>\n",
       "      <td>3750978</td>\n",
       "    </tr>\n",
       "    <tr>\n",
       "      <th>Northeast</th>\n",
       "      <td>1841785</td>\n",
       "      <td>1100207</td>\n",
       "      <td>2780744</td>\n",
       "    </tr>\n",
       "    <tr>\n",
       "      <th>South</th>\n",
       "      <td>3405844</td>\n",
       "      <td>2074410</td>\n",
       "      <td>5311631</td>\n",
       "    </tr>\n",
       "    <tr>\n",
       "      <th>West</th>\n",
       "      <td>2662690</td>\n",
       "      <td>1596800</td>\n",
       "      <td>4033423</td>\n",
       "    </tr>\n",
       "  </tbody>\n",
       "</table>\n",
       "</div>"
      ],
      "text/plain": [
       "loyalty_flag  Loyal customer  New customer  Regular customer\n",
       "region                                                      \n",
       "Midwest              2373774       1472573           3750978\n",
       "Northeast            1841785       1100207           2780744\n",
       "South                3405844       2074410           5311631\n",
       "West                 2662690       1596800           4033423"
      ]
     },
     "execution_count": 164,
     "metadata": {},
     "output_type": "execute_result"
    }
   ],
   "source": [
    "loyalty_region_cross"
   ]
  },
  {
   "cell_type": "code",
   "execution_count": 165,
   "id": "8dc80f73",
   "metadata": {},
   "outputs": [
    {
     "data": {
      "image/png": "[encoded data removed]",
      "text/plain": [
       "<Figure size 640x480 with 1 Axes>"
      ]
     },
     "metadata": {},
     "output_type": "display_data"
    }
   ],
   "source": [
    "#creating bar gragh for loyalty_region_cross\n",
    "loyalty_region_cross = loyalty_region_cross.plot.bar(stacked = True, color = ['orange', 'limegreen','grey'])\n"
   ]
  },
  {
   "cell_type": "code",
   "execution_count": 170,
   "id": "42340189",
   "metadata": {},
   "outputs": [],
   "source": [
    "#exporting image\n",
    "loyalty_region_cross.figure.savefig(os.path.join(path, '04 Analysis', 'Visualizations', 'loyalty_region_cross.png'))"
   ]
  },
  {
   "cell_type": "code",
   "execution_count": 173,
   "id": "6c16e1d8",
   "metadata": {},
   "outputs": [
    {
     "data": {
      "image/png": "[encoded data removed]",
      "text/plain": [
       "<Figure size 640x480 with 1 Axes>"
      ]
     },
     "metadata": {},
     "output_type": "display_data"
    }
   ],
   "source": [
    "# popular departments\n",
    "bar_department = IC_all_sec['department'].value_counts().plot.barh(color = ['limegreen'])"
   ]
  },
  {
   "cell_type": "code",
   "execution_count": 174,
   "id": "08df232f",
   "metadata": {},
   "outputs": [],
   "source": [
    "#exporting image\n",
    "bar_department.figure.savefig(os.path.join(path, '04 Analysis', 'Visualizations', 'bar_department.png'))"
   ]
  },
  {
   "cell_type": "code",
   "execution_count": 176,
   "id": "cfc94ded",
   "metadata": {},
   "outputs": [],
   "source": [
    "# Creating a crosstab comparing 'loyalty' and 'price_ranges'\n",
    "loyalty_price_cross = pd.crosstab(IC_all_sec['price_labels'], IC_all_sec['loyalty_flag'])"
   ]
  },
  {
   "cell_type": "code",
   "execution_count": 177,
   "id": "85090af7",
   "metadata": {},
   "outputs": [
    {
     "data": {
      "text/html": [
       "<div>\n",
       "<style scoped>\n",
       "    .dataframe tbody tr th:only-of-type {\n",
       "        vertical-align: middle;\n",
       "    }\n",
       "\n",
       "    .dataframe tbody tr th {\n",
       "        vertical-align: top;\n",
       "    }\n",
       "\n",
       "    .dataframe thead th {\n",
       "        text-align: right;\n",
       "    }\n",
       "</style>\n",
       "<table border=\"1\" class=\"dataframe\">\n",
       "  <thead>\n",
       "    <tr style=\"text-align: right;\">\n",
       "      <th>loyalty_flag</th>\n",
       "      <th>Loyal customer</th>\n",
       "      <th>New customer</th>\n",
       "      <th>Regular customer</th>\n",
       "    </tr>\n",
       "    <tr>\n",
       "      <th>price_labels</th>\n",
       "      <th></th>\n",
       "      <th></th>\n",
       "      <th></th>\n",
       "    </tr>\n",
       "  </thead>\n",
       "  <tbody>\n",
       "    <tr>\n",
       "      <th>High-range product</th>\n",
       "      <td>119936</td>\n",
       "      <td>85652</td>\n",
       "      <td>212090</td>\n",
       "    </tr>\n",
       "    <tr>\n",
       "      <th>Low-range product</th>\n",
       "      <td>3214690</td>\n",
       "      <td>1952769</td>\n",
       "      <td>4958862</td>\n",
       "    </tr>\n",
       "    <tr>\n",
       "      <th>Mid-range product</th>\n",
       "      <td>6949467</td>\n",
       "      <td>4205569</td>\n",
       "      <td>10705824</td>\n",
       "    </tr>\n",
       "  </tbody>\n",
       "</table>\n",
       "</div>"
      ],
      "text/plain": [
       "loyalty_flag        Loyal customer  New customer  Regular customer\n",
       "price_labels                                                      \n",
       "High-range product          119936         85652            212090\n",
       "Low-range product          3214690       1952769           4958862\n",
       "Mid-range product          6949467       4205569          10705824"
      ]
     },
     "execution_count": 177,
     "metadata": {},
     "output_type": "execute_result"
    }
   ],
   "source": [
    "loyalty_price_cross"
   ]
  },
  {
   "cell_type": "code",
   "execution_count": 178,
   "id": "40f2c57d",
   "metadata": {},
   "outputs": [
    {
     "data": {
      "image/png": "[encoded data removed]",
      "text/plain": [
       "<Figure size 640x480 with 1 Axes>"
      ]
     },
     "metadata": {},
     "output_type": "display_data"
    }
   ],
   "source": [
    "#creating bar gragh for loyalty_price_cross\n",
    "loyalty_price_cross = loyalty_price_cross.plot.bar(color = ['orange', 'limegreen','grey'])\n"
   ]
  },
  {
   "cell_type": "code",
   "execution_count": 179,
   "id": "9c440ba0",
   "metadata": {},
   "outputs": [],
   "source": [
    "#exporting image\n",
    "loyalty_price_cross.figure.savefig(os.path.join(path, '04 Analysis', 'Visualizations', 'loyalty_price_cross.png'))"
   ]
  },
  {
   "cell_type": "code",
   "execution_count": 183,
   "id": "bf6a0e57",
   "metadata": {},
   "outputs": [
    {
     "data": {
      "image/png": "[encoded data removed]",
      "text/plain": [
       "<Figure size 640x480 with 1 Axes>"
      ]
     },
     "metadata": {},
     "output_type": "display_data"
    }
   ],
   "source": [
    "bar_prices = IC_all_sec['price_labels'].value_counts().plot.barh(color = ['limegreen'])"
   ]
  },
  {
   "cell_type": "code",
   "execution_count": 184,
   "id": "760a89e4",
   "metadata": {},
   "outputs": [],
   "source": [
    "#exporting image\n",
    "bar_prices.figure.savefig(os.path.join(path, '04 Analysis', 'Visualizations', 'bar_prices_labels.png'))"
   ]
  },
  {
   "cell_type": "code",
   "execution_count": 195,
   "id": "8a933c65",
   "metadata": {},
   "outputs": [
    {
     "data": {
      "image/png": "[encoded data removed]",
      "text/plain": [
       "<Figure size 640x480 with 1 Axes>"
      ]
     },
     "metadata": {},
     "output_type": "display_data"
    }
   ],
   "source": [
    "bar_loyalty = IC_all_sec['loyalty_flag'].value_counts().plot.bar(color = ['limegreen'])"
   ]
  },
  {
   "cell_type": "code",
   "execution_count": 121,
   "id": "f0a913fb",
   "metadata": {},
   "outputs": [],
   "source": [
    "# Export data to pkl\n",
    "IC_all_sec.to_pickle(os.path.join(path, '02 Data','Prepared Data', 'IC_all_sec.pkl'))\n"
   ]
  },
  {
   "cell_type": "code",
   "execution_count": null,
   "id": "a4fd1bc8",
   "metadata": {},
   "outputs": [],
   "source": []
  }
 ],
 "metadata": {
  "kernelspec": {
   "display_name": "Python 3 (ipykernel)",
   "language": "python",
   "name": "python3"
  },
  "language_info": {
   "codemirror_mode": {
    "name": "ipython",
    "version": 3
   },
   "file_extension": ".py",
   "mimetype": "text/x-python",
   "name": "python",
   "nbconvert_exporter": "python",
   "pygments_lexer": "ipython3",
   "version": "3.10.9"
  }
 },
 "nbformat": 4,
 "nbformat_minor": 5
}
