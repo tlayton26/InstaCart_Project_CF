{
 "cells": [
  {
   "cell_type": "markdown",
   "id": "a2dfab5b",
   "metadata": {},
   "source": [
    "# 01. Importing Libraries"
   ]
  },
  {
   "cell_type": "markdown",
   "id": "fd0ac4cf",
   "metadata": {},
   "source": [
    "## Content\n",
    "1. exploring data types with operations\n",
    "2. Completing task "
   ]
  },
  {
   "cell_type": "code",
   "execution_count": 1,
   "id": "e57c901e",
   "metadata": {},
   "outputs": [],
   "source": [
    "# Import libraries\n",
    "import pandas as pd\n",
    "import numpy as np\n",
    "import os"
   ]
  },
  {
   "cell_type": "markdown",
   "id": "395d85bf",
   "metadata": {},
   "source": [
    "## Data types"
   ]
  },
  {
   "cell_type": "code",
   "execution_count": 2,
   "id": "20241f23",
   "metadata": {},
   "outputs": [],
   "source": [
    "x=2"
   ]
  },
  {
   "cell_type": "code",
   "execution_count": 3,
   "id": "28412334",
   "metadata": {},
   "outputs": [
    {
     "data": {
      "text/plain": [
       "2"
      ]
     },
     "execution_count": 3,
     "metadata": {},
     "output_type": "execute_result"
    }
   ],
   "source": [
    "x"
   ]
  },
  {
   "cell_type": "code",
   "execution_count": 4,
   "id": "58d04d8e",
   "metadata": {},
   "outputs": [
    {
     "name": "stdout",
     "output_type": "stream",
     "text": [
      "2\n"
     ]
    }
   ],
   "source": [
    "print(x)"
   ]
  },
  {
   "cell_type": "code",
   "execution_count": 5,
   "id": "d106d3ea",
   "metadata": {},
   "outputs": [
    {
     "data": {
      "text/plain": [
       "int"
      ]
     },
     "execution_count": 5,
     "metadata": {},
     "output_type": "execute_result"
    }
   ],
   "source": [
    "type(x)"
   ]
  },
  {
   "cell_type": "code",
   "execution_count": 6,
   "id": "d017e6a0",
   "metadata": {},
   "outputs": [],
   "source": [
    "y=5.678"
   ]
  },
  {
   "cell_type": "code",
   "execution_count": 7,
   "id": "8183e3e2",
   "metadata": {},
   "outputs": [
    {
     "data": {
      "text/plain": [
       "float"
      ]
     },
     "execution_count": 7,
     "metadata": {},
     "output_type": "execute_result"
    }
   ],
   "source": [
    "type(y)"
   ]
  },
  {
   "cell_type": "code",
   "execution_count": 8,
   "id": "f9e78d21",
   "metadata": {},
   "outputs": [],
   "source": [
    "z='Brazil'"
   ]
  },
  {
   "cell_type": "code",
   "execution_count": 9,
   "id": "306823f0",
   "metadata": {},
   "outputs": [
    {
     "data": {
      "text/plain": [
       "str"
      ]
     },
     "execution_count": 9,
     "metadata": {},
     "output_type": "execute_result"
    }
   ],
   "source": [
    "type(z)"
   ]
  },
  {
   "cell_type": "code",
   "execution_count": 10,
   "id": "1966a44b",
   "metadata": {},
   "outputs": [
    {
     "data": {
      "text/plain": [
       "6"
      ]
     },
     "execution_count": 10,
     "metadata": {},
     "output_type": "execute_result"
    }
   ],
   "source": [
    "x+4"
   ]
  },
  {
   "cell_type": "code",
   "execution_count": 11,
   "id": "404b8b12",
   "metadata": {},
   "outputs": [],
   "source": [
    "x=x+4"
   ]
  },
  {
   "cell_type": "code",
   "execution_count": 12,
   "id": "71d5eaeb",
   "metadata": {},
   "outputs": [
    {
     "data": {
      "text/plain": [
       "False"
      ]
     },
     "execution_count": 12,
     "metadata": {},
     "output_type": "execute_result"
    }
   ],
   "source": [
    "x==y"
   ]
  },
  {
   "cell_type": "markdown",
   "id": "3db58a5c",
   "metadata": {},
   "source": [
    "## 4.1 Task "
   ]
  },
  {
   "cell_type": "code",
   "execution_count": 13,
   "id": "5a1b343b",
   "metadata": {},
   "outputs": [
    {
     "data": {
      "text/plain": [
       "100"
      ]
     },
     "execution_count": 13,
     "metadata": {},
     "output_type": "execute_result"
    }
   ],
   "source": [
    "5 + 95"
   ]
  },
  {
   "cell_type": "code",
   "execution_count": 14,
   "id": "9b45cd35",
   "metadata": {},
   "outputs": [
    {
     "data": {
      "text/plain": [
       "100"
      ]
     },
     "execution_count": 14,
     "metadata": {},
     "output_type": "execute_result"
    }
   ],
   "source": [
    "150 - 50"
   ]
  },
  {
   "cell_type": "code",
   "execution_count": 15,
   "id": "aabb5f83",
   "metadata": {},
   "outputs": [
    {
     "data": {
      "text/plain": [
       "100"
      ]
     },
     "execution_count": 15,
     "metadata": {},
     "output_type": "execute_result"
    }
   ],
   "source": [
    "20 + 80"
   ]
  },
  {
   "cell_type": "code",
   "execution_count": 16,
   "id": "1985b307",
   "metadata": {},
   "outputs": [],
   "source": [
    "x = 10.12"
   ]
  },
  {
   "cell_type": "code",
   "execution_count": 17,
   "id": "b41dde28",
   "metadata": {},
   "outputs": [],
   "source": [
    "y = 5.23"
   ]
  },
  {
   "cell_type": "code",
   "execution_count": 18,
   "id": "927e4cea",
   "metadata": {},
   "outputs": [
    {
     "data": {
      "text/plain": [
       "1.9349904397705542"
      ]
     },
     "execution_count": 18,
     "metadata": {},
     "output_type": "execute_result"
    }
   ],
   "source": [
    "x/y"
   ]
  },
  {
   "cell_type": "code",
   "execution_count": 19,
   "id": "a2c4bdbb",
   "metadata": {},
   "outputs": [],
   "source": [
    "s = 's'"
   ]
  },
  {
   "cell_type": "code",
   "execution_count": 20,
   "id": "6d885596",
   "metadata": {},
   "outputs": [],
   "source": [
    "t = 't'"
   ]
  },
  {
   "cell_type": "code",
   "execution_count": 21,
   "id": "c6ac7e0f",
   "metadata": {},
   "outputs": [],
   "source": [
    "r= 'r'"
   ]
  },
  {
   "cell_type": "code",
   "execution_count": 22,
   "id": "8b8e224b",
   "metadata": {},
   "outputs": [],
   "source": [
    "i = \"i\""
   ]
  },
  {
   "cell_type": "code",
   "execution_count": 25,
   "id": "26e79830",
   "metadata": {},
   "outputs": [],
   "source": [
    "n='n'"
   ]
  },
  {
   "cell_type": "code",
   "execution_count": 26,
   "id": "6c96ad02",
   "metadata": {},
   "outputs": [],
   "source": [
    "g='g'"
   ]
  },
  {
   "cell_type": "code",
   "execution_count": 27,
   "id": "d6c85d4a",
   "metadata": {},
   "outputs": [
    {
     "data": {
      "text/plain": [
       "'string'"
      ]
     },
     "execution_count": 27,
     "metadata": {},
     "output_type": "execute_result"
    }
   ],
   "source": [
    "s+t+r+i+n+g"
   ]
  },
  {
   "cell_type": "code",
   "execution_count": 37,
   "id": "fa3eeae2",
   "metadata": {},
   "outputs": [],
   "source": [
    "s='My '"
   ]
  },
  {
   "cell_type": "code",
   "execution_count": 38,
   "id": "e9df1ad7",
   "metadata": {},
   "outputs": [],
   "source": [
    "t='name '"
   ]
  },
  {
   "cell_type": "code",
   "execution_count": 39,
   "id": "143f8c7b",
   "metadata": {},
   "outputs": [],
   "source": [
    "r='is '"
   ]
  },
  {
   "cell_type": "code",
   "execution_count": 40,
   "id": "0adf3218",
   "metadata": {},
   "outputs": [],
   "source": [
    "a='Thea'"
   ]
  },
  {
   "cell_type": "code",
   "execution_count": 34,
   "id": "ffdc22a5",
   "metadata": {},
   "outputs": [],
   "source": [
    "w='!'"
   ]
  },
  {
   "cell_type": "code",
   "execution_count": 35,
   "id": "ce1a55da",
   "metadata": {},
   "outputs": [
    {
     "data": {
      "text/plain": [
       "'MynameisThea!'"
      ]
     },
     "execution_count": 35,
     "metadata": {},
     "output_type": "execute_result"
    }
   ],
   "source": [
    "s+t+r+a+w"
   ]
  },
  {
   "cell_type": "code",
   "execution_count": 41,
   "id": "ab95504b",
   "metadata": {},
   "outputs": [
    {
     "data": {
      "text/plain": [
       "'My name is Thea!'"
      ]
     },
     "execution_count": 41,
     "metadata": {},
     "output_type": "execute_result"
    }
   ],
   "source": [
    "s+t+r+a+w"
   ]
  },
  {
   "cell_type": "code",
   "execution_count": 42,
   "id": "39871759",
   "metadata": {},
   "outputs": [],
   "source": [
    "b = 'blonde'"
   ]
  },
  {
   "cell_type": "code",
   "execution_count": 43,
   "id": "adb1ed7b",
   "metadata": {},
   "outputs": [
    {
     "data": {
      "text/plain": [
       "'Theais blonde'"
      ]
     },
     "execution_count": 43,
     "metadata": {},
     "output_type": "execute_result"
    }
   ],
   "source": [
    "a+r+b"
   ]
  },
  {
   "cell_type": "code",
   "execution_count": 44,
   "id": "93f9c935",
   "metadata": {},
   "outputs": [
    {
     "data": {
      "text/plain": [
       "'TheaTheaTheaTheaTheaTheaTheaTheaTheaTheaTheaTheaTheaTheaTheaTheaTheaTheaTheaTheaTheaTheaTheaTheaTheaTheaTheaTheaTheaTheaTheaTheaTheaTheaTheaTheaTheaTheaTheaTheaTheaTheaTheaTheaTheaTheaTheaTheaTheaTheaTheaTheaTheaTheaTheaTheaTheaTheaTheaTheaTheaTheaTheaTheaTheaTheaTheaTheaTheaTheaTheaTheaTheaTheaTheaTheaTheaTheaTheaTheaTheaTheaTheaTheaTheaTheaTheaTheaTheaTheaTheaTheaTheaTheaTheaTheaTheaTheaTheaThea'"
      ]
     },
     "execution_count": 44,
     "metadata": {},
     "output_type": "execute_result"
    }
   ],
   "source": [
    "a * 100"
   ]
  },
  {
   "cell_type": "code",
   "execution_count": null,
   "id": "e160c3c0",
   "metadata": {},
   "outputs": [],
   "source": []
  }
 ],
 "metadata": {
  "kernelspec": {
   "display_name": "Python 3 (ipykernel)",
   "language": "python",
   "name": "python3"
  },
  "language_info": {
   "codemirror_mode": {
    "name": "ipython",
    "version": 3
   },
   "file_extension": ".py",
   "mimetype": "text/x-python",
   "name": "python",
   "nbconvert_exporter": "python",
   "pygments_lexer": "ipython3",
   "version": "3.10.9"
  }
 },
 "nbformat": 4,
 "nbformat_minor": 5
}
